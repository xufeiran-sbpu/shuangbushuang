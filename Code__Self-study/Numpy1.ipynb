{
 "cells": [
  {
   "cell_type": "code",
   "execution_count": 1,
   "metadata": {},
   "outputs": [
    {
     "name": "stdout",
     "output_type": "stream",
     "text": [
      "[[1 2 3]\n",
      " [4 5 6]]\n",
      "(2, 3)\n",
      "2\n",
      "6\n"
     ]
    }
   ],
   "source": [
    "import numpy as np\n",
    "array=np.array([[1,2,3],[4,5,6]])\n",
    "print(array)\n",
    "print(array.shape)\n",
    "print(array.ndim)\n",
    "print(array.size)\n"
   ]
  },
  {
   "cell_type": "code",
   "execution_count": 2,
   "metadata": {},
   "outputs": [
    {
     "name": "stdout",
     "output_type": "stream",
     "text": [
      "[[0. 0. 0. 0.]\n",
      " [0. 0. 0. 0.]\n",
      " [0. 0. 0. 0.]]\n"
     ]
    }
   ],
   "source": [
    "array=np.zeros((3,4))##全一矩阵为ones\n",
    "print(array)"
   ]
  },
  {
   "cell_type": "code",
   "execution_count": 3,
   "metadata": {},
   "outputs": [
    {
     "name": "stdout",
     "output_type": "stream",
     "text": [
      "[10 13 16 19]\n"
     ]
    }
   ],
   "source": [
    "array=np.arange(10,20,3)##生成有序数列按照指定步长,一个变量的话表示从0到该数字，步长为1\n",
    "print(array)"
   ]
  },
  {
   "cell_type": "code",
   "execution_count": 4,
   "metadata": {},
   "outputs": [
    {
     "name": "stdout",
     "output_type": "stream",
     "text": [
      "[[10 13]\n",
      " [16 19]]\n"
     ]
    }
   ],
   "source": [
    "array=np.arange(10,20,3).reshape(2,2)##对数组形状重改，此处为2*2\n",
    "print(array)"
   ]
  },
  {
   "cell_type": "code",
   "execution_count": 6,
   "metadata": {},
   "outputs": [
    {
     "name": "stdout",
     "output_type": "stream",
     "text": [
      "[ 1.   2.8  4.6  6.4  8.2 10. ]\n"
     ]
    }
   ],
   "source": [
    "array=np.linspace(1,10,6)\n",
    "print(array)"
   ]
  },
  {
   "cell_type": "code",
   "execution_count": 10,
   "metadata": {},
   "outputs": [
    {
     "name": "stdout",
     "output_type": "stream",
     "text": [
      "[10 20 30 40] | [1 2 3 4]\n",
      "[ 10  40  90 160]\n"
     ]
    }
   ],
   "source": [
    "a=np.array([10,20,30,40])##此处的运算均为单个元素与单个元素的运算，**代表次幂\n",
    "b=np.arange(1,5)\n",
    "print(a,\"|\",b)\n",
    "c=a*b\n",
    "print(c)"
   ]
  },
  {
   "cell_type": "code",
   "execution_count": 11,
   "metadata": {},
   "outputs": [
    {
     "name": "stdout",
     "output_type": "stream",
     "text": [
      "[-5.44021111  9.12945251 -9.88031624  7.4511316 ]\n"
     ]
    }
   ],
   "source": [
    "a=np.array([10,20,30,40])\n",
    "c=10*np.sin(a)##对a的每个值求sin并×10 cos  tan   ((三角函数))\n",
    "print(c)"
   ]
  },
  {
   "cell_type": "code",
   "execution_count": 19,
   "metadata": {},
   "outputs": [
    {
     "name": "stdout",
     "output_type": "stream",
     "text": [
      "[[0 1]\n",
      " [2 3]]\n",
      "[[2 4]\n",
      " [2 3]]\n",
      "*******\n",
      "[[0 1]\n",
      " [0 3]]\n"
     ]
    }
   ],
   "source": [
    "a=np.array([[1,1],\n",
    "            [0,1]])\n",
    "b=np.arange(4).reshape((2,2))##矩阵运算\n",
    "print(b)\n",
    "c=a*b\n",
    "c_dot=np.dot(a,b)\n",
    "print(c_dot)\n",
    "print(\"*******\")\n",
    "print(c)"
   ]
  },
  {
   "cell_type": "code",
   "execution_count": 26,
   "metadata": {},
   "outputs": [
    {
     "name": "stdout",
     "output_type": "stream",
     "text": [
      "[[0.53601521 0.47075894 0.17485297]\n",
      " [0.68693128 0.89542624 0.08998709]]\n",
      "0.8954262397379433\n",
      "2.8539717161434464\n",
      "0.08998708784711806\n"
     ]
    }
   ],
   "source": [
    "a=np.random.random((2,3))\n",
    "print(a)\n",
    "\n",
    "print(np.max(a))\n",
    "print(np.sum(a))\n",
    "print(np.min(a))"
   ]
  },
  {
   "cell_type": "code",
   "execution_count": 31,
   "metadata": {},
   "outputs": [
    {
     "name": "stdout",
     "output_type": "stream",
     "text": [
      "[[0.53601521 0.47075894 0.17485297]\n",
      " [0.68693128 0.89542624 0.08998709]]\n",
      "****\n",
      "[0.68693128 0.89542624 0.17485297]\n",
      "[1.18162711 1.6723446 ]\n",
      "[0.17485297 0.08998709]\n"
     ]
    }
   ],
   "source": [
    "print(a)\n",
    "print(\"****\")\n",
    "print(np.max(a,axis=0))##axis=0,每一列的最大值（最小值），axis=1,每一行的最大值（最小值）\n",
    "print(np.sum(a,axis=1))##对行求和，原理相同\n",
    "print(np.min(a,axis=1))"
   ]
  },
  {
   "cell_type": "code",
   "execution_count": 47,
   "metadata": {},
   "outputs": [
    {
     "name": "stdout",
     "output_type": "stream",
     "text": [
      "[[ 2  3  4  5]\n",
      " [ 6  7  8  9]\n",
      " [10 11 12 13]]\n",
      "*****\n",
      "0\n",
      "11\n",
      "[ 3.5  7.5 11.5]\n",
      "7.5\n",
      "[[ 2  5  9 14]\n",
      " [20 27 35 44]\n",
      " [54 65 77 90]]\n",
      "[[1 1 1]\n",
      " [1 1 1]\n",
      " [1 1 1]]\n",
      "[[ 2  6 10]\n",
      " [ 3  7 11]\n",
      " [ 4  8 12]\n",
      " [ 5  9 13]]\n"
     ]
    }
   ],
   "source": [
    "a=np.arange(2,14).reshape(3,4)\n",
    "print(a)\n",
    "print(\"*****\")\n",
    "print(np.argmin(a))\n",
    "print(np.argmax(a))\n",
    "print(np.average(a,axis=1))##求矩阵所有元素的平均值,也可以按行按列计算\n",
    "print(np.median(a))\n",
    "print(np.cumsum(a).reshape((3,4))) ##与a中元素个数相同，第一个为a中第一个，第二个为a中第一个加第二个，以此类推\n",
    "print(np.diff(a))##累差，4个数的累差是三个数，因此是3*3\n",
    "print(a.T)##矩阵转置"
   ]
  },
  {
   "cell_type": "code",
   "execution_count": 51,
   "metadata": {},
   "outputs": [
    {
     "name": "stdout",
     "output_type": "stream",
     "text": [
      "[[ 3  4  5  6]\n",
      " [ 7  8  9 10]\n",
      " [11 12 13 14]]\n",
      "*****\n",
      "12\n",
      "12\n",
      "[12 13]\n",
      "[ 5  9 13]\n",
      "6\n"
     ]
    }
   ],
   "source": [
    "a=np.arange(3,15)##                              矩阵索引\n",
    "b=np.arange(3,15).reshape((3,4))\n",
    "print(b)\n",
    "print(\"*****\")\n",
    "print(b[2][1])\n",
    "print(b[2,1])\n",
    "print(b[2,1:3])\n",
    "print(b[:,2])\n",
    "print(a[3])\n"
   ]
  },
  {
   "cell_type": "code",
   "execution_count": 56,
   "metadata": {},
   "outputs": [
    {
     "name": "stdout",
     "output_type": "stream",
     "text": [
      "[1 1 1 2 2 2]\n",
      "[[1 1 1]\n",
      " [2 2 2]]\n",
      "(3,) (2, 3) (6,)\n",
      "(1, 3)\n"
     ]
    }
   ],
   "source": [
    "A=np.array([1,1,1])\n",
    "B=np.array([2,2,2])\n",
    "C=np.vstack((A,B))##上下合并\n",
    "D=np.hstack((A,B))##左右合并\n",
    "print(D)\n",
    "print(C)\n",
    "print(A.shape,C.shape,D.shape)\n",
    "print(A[np.newaxis,:].shape)##在左（行）上加维度，右（列）上加维度"
   ]
  },
  {
   "cell_type": "code",
   "execution_count": 60,
   "metadata": {},
   "outputs": [
    {
     "name": "stdout",
     "output_type": "stream",
     "text": [
      "[[1]\n",
      " [1]\n",
      " [1]]\n",
      ": (3, 1)\n",
      "****\n",
      "[[2]\n",
      " [2]\n",
      " [2]]\n",
      ": (3, 1)\n",
      "[[1 2 2 1]\n",
      " [1 2 2 1]\n",
      " [1 2 2 1]]\n"
     ]
    }
   ],
   "source": [
    "A=np.array([1,1,1])[:,np.newaxis]##array的合并\n",
    "B=np.array([2,2,2])[:,np.newaxis]\n",
    "print(A)\n",
    "print(\":\",A.shape)\n",
    "print(\"****\")\n",
    "print(B)\n",
    "print(\":\",B.shape)\n",
    "C=np.concatenate((A,B,B,A),axis=1)##对多个array进行合并，用axis进行指定维度的合并\n",
    "print(C)"
   ]
  },
  {
   "cell_type": "code",
   "execution_count": 70,
   "metadata": {},
   "outputs": [
    {
     "name": "stdout",
     "output_type": "stream",
     "text": [
      "[[ 0  1  2  3]\n",
      " [ 4  5  6  7]\n",
      " [ 8  9 10 11]]\n",
      "[array([[0, 1],\n",
      "       [4, 5],\n",
      "       [8, 9]]), array([[ 2,  3],\n",
      "       [ 6,  7],\n",
      "       [10, 11]])]\n",
      "[array([[0, 1, 2, 3]]), array([[4, 5, 6, 7]]), array([[ 8,  9, 10, 11]])]\n",
      "[array([[0, 1],\n",
      "       [4, 5],\n",
      "       [8, 9]]), array([[ 2],\n",
      "       [ 6],\n",
      "       [10]]), array([[ 3],\n",
      "       [ 7],\n",
      "       [11]])]\n",
      "[array([[0, 1, 2, 3]]), array([[4, 5, 6, 7]]), array([[ 8,  9, 10, 11]])]\n",
      "[array([[0, 1, 2, 3]]), array([[4, 5, 6, 7]]), array([[ 8,  9, 10, 11]])]\n"
     ]
    }
   ],
   "source": [
    "A=np.arange(12).reshape(3,4)##array的分割\n",
    "print(A)\n",
    "print(np.split(A,2,axis=1))##第一个元素是被分割对象，第二个是块数，第三个是方向\n",
    "print(np.split(A,3,axis=0))\n",
    "print(np.array_split(A,3,axis=1))##上述情况为均等的分割，这个函数对应不均等分割时的要求\n",
    "print(np.split(A,3,axis=0))\n",
    "print(np.vsplit(A,3))"
   ]
  },
  {
   "cell_type": "code",
   "execution_count": 74,
   "metadata": {},
   "outputs": [
    {
     "name": "stdout",
     "output_type": "stream",
     "text": [
      "[2 1 2 3]\n",
      "[2 1 2 3]\n",
      "[0 1 2 3]\n"
     ]
    }
   ],
   "source": [
    "a=np.arange(4)\n",
    "a\n",
    "b=a\n",
    "c=a.copy()\n",
    "##等号会让左右两边的变量所有属性相关联，如b=a，改变a的值，b也会变 否则情况如下\n",
    "a[0]=2\n",
    "print(a)\n",
    "print(b)\n",
    "print(c)"
   ]
  },
  {
   "cell_type": "code",
   "execution_count": null,
   "metadata": {},
   "outputs": [],
   "source": []
  }
 ],
 "metadata": {
  "kernelspec": {
   "display_name": "Python 3",
   "language": "python",
   "name": "python3"
  },
  "language_info": {
   "codemirror_mode": {
    "name": "ipython",
    "version": 3
   },
   "file_extension": ".py",
   "mimetype": "text/x-python",
   "name": "python",
   "nbconvert_exporter": "python",
   "pygments_lexer": "ipython3",
   "version": "3.7.4"
  }
 },
 "nbformat": 4,
 "nbformat_minor": 2
}
