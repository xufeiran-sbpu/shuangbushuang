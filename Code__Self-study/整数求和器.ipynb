{
 "cells": [
  {
   "cell_type": "code",
   "execution_count": null,
   "metadata": {},
   "outputs": [],
   "source": [
    "print(\"我来帮你算从1到n的所有整数的和\")\n",
    "print(\"告诉我你想计算的n\")\n",
    "n=int(input())\n",
    "counter=1\n",
    "sum=0\n",
    "while counter<=n:\n",
    "    sum=sum+counter\n",
    "    counter+=1\n",
    "print(\"从1到%d的和为: %d\" %(n,sum))"
   ]
  }
 ],
 "metadata": {
  "kernelspec": {
   "display_name": "Python 3",
   "language": "python",
   "name": "python3"
  },
  "language_info": {
   "codemirror_mode": {
    "name": "ipython",
    "version": 3
   },
   "file_extension": ".py",
   "mimetype": "text/x-python",
   "name": "python",
   "nbconvert_exporter": "python",
   "pygments_lexer": "ipython3",
   "version": "3.7.4"
  }
 },
 "nbformat": 4,
 "nbformat_minor": 2
}
