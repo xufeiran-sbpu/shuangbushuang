{
 "cells": [
  {
   "cell_type": "code",
   "execution_count": 1,
   "metadata": {},
   "outputs": [
    {
     "name": "stdout",
     "output_type": "stream",
     "text": [
      "我来帮你检查N以前的所有质数！\n",
      "告诉我一个范围N!\n",
      "10\n",
      "2 是质数\n",
      "3 是质数\n",
      "4 = 2 * 2 不是质数\n",
      "5 是质数\n",
      "6 = 2 * 3 不是质数\n",
      "7 是质数\n",
      "8 = 2 * 4 不是质数\n",
      "9 = 3 * 3 不是质数\n"
     ]
    }
   ],
   "source": [
    "print(\"我来帮你检查N以前的所有质数！\")\n",
    "print(\"告诉我一个范围N!\")\n",
    "N=int(input())\n",
    "for x in range(2,N):\n",
    "    for n in range(2,x):\n",
    "        if x%n==0:\n",
    "            print(x,\"=\",n,\"*\",x//n,\"不是质数\")\n",
    "            break\n",
    "    else:\n",
    "            print(x,\"是质数\")\n"
   ]
  },
  {
   "cell_type": "code",
   "execution_count": null,
   "metadata": {},
   "outputs": [],
   "source": []
  }
 ],
 "metadata": {
  "kernelspec": {
   "display_name": "Python 3",
   "language": "python",
   "name": "python3"
  },
  "language_info": {
   "codemirror_mode": {
    "name": "ipython",
    "version": 3
   },
   "file_extension": ".py",
   "mimetype": "text/x-python",
   "name": "python",
   "nbconvert_exporter": "python",
   "pygments_lexer": "ipython3",
   "version": "3.7.4"
  }
 },
 "nbformat": 4,
 "nbformat_minor": 2
}
