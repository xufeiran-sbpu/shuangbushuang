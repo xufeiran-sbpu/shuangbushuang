{
 "cells": [
  {
   "cell_type": "code",
   "execution_count": 5,
   "metadata": {},
   "outputs": [
    {
     "name": "stdout",
     "output_type": "stream",
     "text": [
      "元素1在数组1中，位置索引为3\n",
      "元素2在数组2中，位置索引为4\n"
     ]
    }
   ],
   "source": [
    "def L_search(arr,n,x):\n",
    "    for i in range(0,n):\n",
    "        if (arr[i]==x):\n",
    "            return i\n",
    "    return -1\n",
    "\n",
    "arr=['a','c','d','sf','qwd']\n",
    "arr2=[1,2,3,4,9,8]\n",
    "n1=len(arr)\n",
    "n2=len(arr2)\n",
    "\n",
    "result1=L_search (arr,n1,'sf')\n",
    "result2=L_search(arr2,n2,9)\n",
    "\n",
    "if result1!=-1:\n",
    "    print(\"元素1在数组1中，位置索引为%d\"%result1)\n",
    "else:\n",
    "    print(\"元素1不在数组1中\")\n",
    "\n",
    "if result2!=-1:\n",
    "    print(\"元素2在数组2中，位置索引为%d\"%result2)\n",
    "else:\n",
    "    print(\"元素2不在数组2 中\")\n",
    "        "
   ]
  },
  {
   "cell_type": "code",
   "execution_count": null,
   "metadata": {},
   "outputs": [],
   "source": []
  }
 ],
 "metadata": {
  "kernelspec": {
   "display_name": "Python 3",
   "language": "python",
   "name": "python3"
  },
  "language_info": {
   "codemirror_mode": {
    "name": "ipython",
    "version": 3
   },
   "file_extension": ".py",
   "mimetype": "text/x-python",
   "name": "python",
   "nbconvert_exporter": "python",
   "pygments_lexer": "ipython3",
   "version": "3.7.4"
  }
 },
 "nbformat": 4,
 "nbformat_minor": 2
}
