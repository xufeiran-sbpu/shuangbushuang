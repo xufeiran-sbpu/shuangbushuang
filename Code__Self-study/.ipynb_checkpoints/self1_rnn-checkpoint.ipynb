{
 "cells": [
  {
   "cell_type": "code",
   "execution_count": 2,
   "metadata": {},
   "outputs": [
    {
     "name": "stdout",
     "output_type": "stream",
     "text": [
      "[[0 1 2]\n",
      " [3 4 5]] numpy\n",
      "tensor([[0, 1, 2],\n",
      "        [3, 4, 5]]) torch\n",
      "tensor2array [[0 1 2]\n",
      " [3 4 5]]\n"
     ]
    }
   ],
   "source": [
    "import torch \n",
    "import numpy as np \n",
    "\n",
    "np_data=np.arange(6).reshape((2,3))\n",
    "\n",
    "torch_data = torch.from_numpy(np_data)##转化函数，吧numpy转化为torch\n",
    "\n",
    "tensor2array = torch_data.numpy()\n",
    "\n",
    "print(np_data,\"numpy\")\n",
    "print(torch_data,\"torch\")\n",
    "print(\"tensor2array\",tensor2array)"
   ]
  },
  {
   "cell_type": "code",
   "execution_count": 4,
   "metadata": {},
   "outputs": [
    {
     "name": "stdout",
     "output_type": "stream",
     "text": [
      "\n",
      "abs \n",
      "numpy [1 2 1 2] \n",
      "torch tensor([1., 2., 1., 2.])\n",
      "\n",
      "abs \n",
      "numpy [-0.84147098 -0.90929743  0.84147098  0.90929743] \n",
      "torch tensor([-0.8415, -0.9093,  0.8415,  0.9093])\n"
     ]
    }
   ],
   "source": [
    "data=[-1,-2,1,2]\n",
    "tensor = torch.FloatTensor(data) \n",
    "print(\"\\nabs\",\n",
    "    '\\nnumpy',np.abs(data),\n",
    "     '\\ntorch',torch.abs(tensor))\n",
    "print(\"\\nabs\",\n",
    "    '\\nnumpy',np.sin(data),\n",
    "     '\\ntorch',torch.sin(tensor))"
   ]
  },
  {
   "cell_type": "code",
   "execution_count": 5,
   "metadata": {},
   "outputs": [
    {
     "name": "stdout",
     "output_type": "stream",
     "text": [
      "\n",
      "numpy [[ 7 10]\n",
      " [15 22]] \n",
      "torch tensor([[ 7., 10.],\n",
      "        [15., 22.]])\n"
     ]
    }
   ],
   "source": [
    "data=[[1,2],[3,4]]\n",
    "tensor = torch.FloatTensor(data)\n",
    "print(\n",
    "\"\\nnumpy\",np.matmul(data,data),\n",
    "\"\\ntorch\",torch.mm(tensor,tensor))"
   ]
  },
  {
   "cell_type": "code",
   "execution_count": 2,
   "metadata": {},
   "outputs": [
    {
     "data": {
      "image/png": "[encoded data removed]",
      "text/plain": [
       "<Figure size 432x288 with 1 Axes>"
      ]
     },
     "metadata": {
      "needs_background": "light"
     },
     "output_type": "display_data"
    }
   ],
   "source": [
    "import torch\n",
    "import torch.utils.data as Data\n",
    "import torch.nn.functional as F\n",
    "from torch.autograd import Variable\n",
    "import matplotlib.pyplot as plt\n",
    "\n",
    "LR=0.01\n",
    "BATCH_SIZE=32\n",
    "EP0CH=12\n",
    "\n",
    "x=torch.unsqueeze(torch.linspace(-1,1,1000),dim=1)\n",
    "y=x.pow(2)+0.1*torch.normal(torch.zeros(*x.size()))\n",
    "\n",
    "plt.scatter(x.numpy(),y.numpy())\n",
    "plt.show()\n",
    "\n",
    "\n"
   ]
  },
  {
   "cell_type": "code",
   "execution_count": null,
   "metadata": {},
   "outputs": [],
   "source": []
  }
 ],
 "metadata": {
  "kernelspec": {
   "display_name": "Python 3",
   "language": "python",
   "name": "python3"
  },
  "language_info": {
   "codemirror_mode": {
    "name": "ipython",
    "version": 3
   },
   "file_extension": ".py",
   "mimetype": "text/x-python",
   "name": "python",
   "nbconvert_exporter": "python",
   "pygments_lexer": "ipython3",
   "version": "3.7.4"
  }
 },
 "nbformat": 4,
 "nbformat_minor": 2
}
