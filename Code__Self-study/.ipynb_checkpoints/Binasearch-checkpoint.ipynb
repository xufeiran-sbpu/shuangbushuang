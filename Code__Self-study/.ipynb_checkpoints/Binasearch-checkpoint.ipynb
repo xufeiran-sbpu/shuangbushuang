{
 "cells": [
  {
   "cell_type": "code",
   "execution_count": 8,
   "metadata": {},
   "outputs": [
    {
     "name": "stdout",
     "output_type": "stream",
     "text": [
      "元素在数组中，位置为:5\n"
     ]
    }
   ],
   "source": [
    "def binarysearch(arr,l,r,x):\n",
    "    if r>=l:\n",
    "        mid = int(l+(r-l)/2)\n",
    "        \n",
    "        if arr[mid]==x:\n",
    "            return mid\n",
    "        elif arr[mid]<x:\n",
    "            return binarysearch(arr,mid+1,r,x)\n",
    "        else:\n",
    "            return binarysearch(arr,l,mid-1,x)\n",
    "    else : \n",
    "        return -1\n",
    "\n",
    "arr=[2,3,4,5,6,99,101,104]\n",
    "x=99\n",
    "\n",
    "result=binarysearch(arr,0,len(arr)-1,x)\n",
    "if result!=-1:\n",
    "    print(\"元素在数组中，位置为:%d\"%result)\n",
    "else:\n",
    "    print(\"元素不在数组中\")\n",
    "            "
   ]
  },
  {
   "cell_type": "code",
   "execution_count": null,
   "metadata": {},
   "outputs": [],
   "source": []
  }
 ],
 "metadata": {
  "kernelspec": {
   "display_name": "Python 3",
   "language": "python",
   "name": "python3"
  },
  "language_info": {
   "codemirror_mode": {
    "name": "ipython",
    "version": 3
   },
   "file_extension": ".py",
   "mimetype": "text/x-python",
   "name": "python",
   "nbconvert_exporter": "python",
   "pygments_lexer": "ipython3",
   "version": "3.7.4"
  }
 },
 "nbformat": 4,
 "nbformat_minor": 2
}
