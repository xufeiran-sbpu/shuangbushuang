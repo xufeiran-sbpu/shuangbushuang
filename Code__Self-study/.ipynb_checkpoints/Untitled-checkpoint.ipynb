{
 "cells": [
  {
   "cell_type": "code",
   "execution_count": 1,
   "metadata": {},
   "outputs": [
    {
     "name": "stdout",
     "output_type": "stream",
     "text": [
      "hello world\n"
     ]
    }
   ],
   "source": [
    "print('hello world')"
   ]
  },
  {
   "cell_type": "code",
   "execution_count": 2,
   "metadata": {},
   "outputs": [
    {
     "ename": "SyntaxError",
     "evalue": "invalid syntax (<ipython-input-2-49c6d6ac95f0>, line 3)",
     "output_type": "error",
     "traceback": [
      "\u001b[0;36m  File \u001b[0;32m\"<ipython-input-2-49c6d6ac95f0>\"\u001b[0;36m, line \u001b[0;32m3\u001b[0m\n\u001b[0;31m    if (a>18,5)\u001b[0m\n\u001b[0m               ^\u001b[0m\n\u001b[0;31mSyntaxError\u001b[0m\u001b[0;31m:\u001b[0m invalid syntax\n"
     ]
    }
   ],
   "source": [
    "print('请输入BMI：')\n",
    "BMI=input (a)\n",
    "if (a>18,5)\n",
    "    print(\"a\")"
   ]
  },
  {
   "cell_type": "markdown",
   "metadata": {},
   "source": [
    "type(\"hello world\")\n"
   ]
  },
  {
   "cell_type": "code",
   "execution_count": null,
   "metadata": {},
   "outputs": [],
   "source": [
    "type(\"hello world\")"
   ]
  },
  {
   "cell_type": "code",
   "execution_count": null,
   "metadata": {},
   "outputs": [],
   "source": [
    "x=8"
   ]
  },
  {
   "cell_type": "code",
   "execution_count": null,
   "metadata": {},
   "outputs": [],
   "source": [
    "if x<7:\n",
    "    print (\"x 比七小\")\n",
    "y=x+1\n",
    "print('x 比七大')\n",
    "print(y)"
   ]
  },
  {
   "cell_type": "code",
   "execution_count": null,
   "metadata": {},
   "outputs": [],
   "source": [
    "9%5\n",
    "\n"
   ]
  },
  {
   "cell_type": "code",
   "execution_count": null,
   "metadata": {},
   "outputs": [],
   "source": [
    "import math\n"
   ]
  },
  {
   "cell_type": "code",
   "execution_count": null,
   "metadata": {},
   "outputs": [],
   "source": [
    "print(math.pi)\n",
    "print(math.e)\n"
   ]
  },
  {
   "cell_type": "code",
   "execution_count": 3,
   "metadata": {},
   "outputs": [
    {
     "data": {
      "text/plain": [
       "bool"
      ]
     },
     "execution_count": 3,
     "metadata": {},
     "output_type": "execute_result"
    }
   ],
   "source": [
    "type(1<2)"
   ]
  },
  {
   "cell_type": "code",
   "execution_count": 4,
   "metadata": {},
   "outputs": [],
   "source": [
    "letters=\"qwertyuio\""
   ]
  },
  {
   "cell_type": "code",
   "execution_count": 5,
   "metadata": {},
   "outputs": [
    {
     "data": {
      "text/plain": [
       "'oiuytrewq'"
      ]
     },
     "execution_count": 5,
     "metadata": {},
     "output_type": "execute_result"
    }
   ],
   "source": [
    "letters[::-1]"
   ]
  },
  {
   "cell_type": "code",
   "execution_count": 6,
   "metadata": {},
   "outputs": [
    {
     "ename": "KeyboardInterrupt",
     "evalue": "",
     "output_type": "error",
     "traceback": [
      "\u001b[0;31m---------------------------------------------------------------------------\u001b[0m",
      "\u001b[0;31mKeyboardInterrupt\u001b[0m                         Traceback (most recent call last)",
      "\u001b[0;32m~/opt/anaconda3/lib/python3.7/site-packages/ipykernel/kernelbase.py\u001b[0m in \u001b[0;36m_input_request\u001b[0;34m(self, prompt, ident, parent, password)\u001b[0m\n\u001b[1;32m    884\u001b[0m             \u001b[0;32mtry\u001b[0m\u001b[0;34m:\u001b[0m\u001b[0;34m\u001b[0m\u001b[0;34m\u001b[0m\u001b[0m\n\u001b[0;32m--> 885\u001b[0;31m                 \u001b[0mident\u001b[0m\u001b[0;34m,\u001b[0m \u001b[0mreply\u001b[0m \u001b[0;34m=\u001b[0m \u001b[0mself\u001b[0m\u001b[0;34m.\u001b[0m\u001b[0msession\u001b[0m\u001b[0;34m.\u001b[0m\u001b[0mrecv\u001b[0m\u001b[0;34m(\u001b[0m\u001b[0mself\u001b[0m\u001b[0;34m.\u001b[0m\u001b[0mstdin_socket\u001b[0m\u001b[0;34m,\u001b[0m \u001b[0;36m0\u001b[0m\u001b[0;34m)\u001b[0m\u001b[0;34m\u001b[0m\u001b[0;34m\u001b[0m\u001b[0m\n\u001b[0m\u001b[1;32m    886\u001b[0m             \u001b[0;32mexcept\u001b[0m \u001b[0mException\u001b[0m\u001b[0;34m:\u001b[0m\u001b[0;34m\u001b[0m\u001b[0;34m\u001b[0m\u001b[0m\n",
      "\u001b[0;32m~/opt/anaconda3/lib/python3.7/site-packages/jupyter_client/session.py\u001b[0m in \u001b[0;36mrecv\u001b[0;34m(self, socket, mode, content, copy)\u001b[0m\n\u001b[1;32m    802\u001b[0m         \u001b[0;32mtry\u001b[0m\u001b[0;34m:\u001b[0m\u001b[0;34m\u001b[0m\u001b[0;34m\u001b[0m\u001b[0m\n\u001b[0;32m--> 803\u001b[0;31m             \u001b[0mmsg_list\u001b[0m \u001b[0;34m=\u001b[0m \u001b[0msocket\u001b[0m\u001b[0;34m.\u001b[0m\u001b[0mrecv_multipart\u001b[0m\u001b[0;34m(\u001b[0m\u001b[0mmode\u001b[0m\u001b[0;34m,\u001b[0m \u001b[0mcopy\u001b[0m\u001b[0;34m=\u001b[0m\u001b[0mcopy\u001b[0m\u001b[0;34m)\u001b[0m\u001b[0;34m\u001b[0m\u001b[0;34m\u001b[0m\u001b[0m\n\u001b[0m\u001b[1;32m    804\u001b[0m         \u001b[0;32mexcept\u001b[0m \u001b[0mzmq\u001b[0m\u001b[0;34m.\u001b[0m\u001b[0mZMQError\u001b[0m \u001b[0;32mas\u001b[0m \u001b[0me\u001b[0m\u001b[0;34m:\u001b[0m\u001b[0;34m\u001b[0m\u001b[0;34m\u001b[0m\u001b[0m\n",
      "\u001b[0;32m~/opt/anaconda3/lib/python3.7/site-packages/zmq/sugar/socket.py\u001b[0m in \u001b[0;36mrecv_multipart\u001b[0;34m(self, flags, copy, track)\u001b[0m\n\u001b[1;32m    474\u001b[0m         \"\"\"\n\u001b[0;32m--> 475\u001b[0;31m         \u001b[0mparts\u001b[0m \u001b[0;34m=\u001b[0m \u001b[0;34m[\u001b[0m\u001b[0mself\u001b[0m\u001b[0;34m.\u001b[0m\u001b[0mrecv\u001b[0m\u001b[0;34m(\u001b[0m\u001b[0mflags\u001b[0m\u001b[0;34m,\u001b[0m \u001b[0mcopy\u001b[0m\u001b[0;34m=\u001b[0m\u001b[0mcopy\u001b[0m\u001b[0;34m,\u001b[0m \u001b[0mtrack\u001b[0m\u001b[0;34m=\u001b[0m\u001b[0mtrack\u001b[0m\u001b[0;34m)\u001b[0m\u001b[0;34m]\u001b[0m\u001b[0;34m\u001b[0m\u001b[0;34m\u001b[0m\u001b[0m\n\u001b[0m\u001b[1;32m    476\u001b[0m         \u001b[0;31m# have first part already, only loop while more to receive\u001b[0m\u001b[0;34m\u001b[0m\u001b[0;34m\u001b[0m\u001b[0;34m\u001b[0m\u001b[0m\n",
      "\u001b[0;32mzmq/backend/cython/socket.pyx\u001b[0m in \u001b[0;36mzmq.backend.cython.socket.Socket.recv\u001b[0;34m()\u001b[0m\n",
      "\u001b[0;32mzmq/backend/cython/socket.pyx\u001b[0m in \u001b[0;36mzmq.backend.cython.socket.Socket.recv\u001b[0;34m()\u001b[0m\n",
      "\u001b[0;32mzmq/backend/cython/socket.pyx\u001b[0m in \u001b[0;36mzmq.backend.cython.socket._recv_copy\u001b[0;34m()\u001b[0m\n",
      "\u001b[0;32m~/opt/anaconda3/lib/python3.7/site-packages/zmq/backend/cython/checkrc.pxd\u001b[0m in \u001b[0;36mzmq.backend.cython.checkrc._check_rc\u001b[0;34m()\u001b[0m\n",
      "\u001b[0;31mKeyboardInterrupt\u001b[0m: ",
      "\nDuring handling of the above exception, another exception occurred:\n",
      "\u001b[0;31mKeyboardInterrupt\u001b[0m                         Traceback (most recent call last)",
      "\u001b[0;32m<ipython-input-6-e2ed1913557a>\u001b[0m in \u001b[0;36m<module>\u001b[0;34m\u001b[0m\n\u001b[0;32m----> 1\u001b[0;31m \u001b[0mage\u001b[0m\u001b[0;34m=\u001b[0m\u001b[0minput\u001b[0m\u001b[0;34m(\u001b[0m\u001b[0;34m'how old are you ?\\n'\u001b[0m\u001b[0;34m)\u001b[0m\u001b[0;34m\u001b[0m\u001b[0;34m\u001b[0m\u001b[0m\n\u001b[0m\u001b[1;32m      2\u001b[0m \u001b[0mweight\u001b[0m \u001b[0;34m=\u001b[0m\u001b[0minput\u001b[0m\u001b[0;34m(\u001b[0m\u001b[0;34m'how much weight ?\\n'\u001b[0m\u001b[0;34m)\u001b[0m\u001b[0;34m\u001b[0m\u001b[0;34m\u001b[0m\u001b[0m\n\u001b[1;32m      3\u001b[0m \u001b[0mhigh\u001b[0m\u001b[0;34m=\u001b[0m\u001b[0minput\u001b[0m\u001b[0;34m(\u001b[0m\u001b[0;34m'how tall ?\\n'\u001b[0m\u001b[0;34m)\u001b[0m\u001b[0;34m\u001b[0m\u001b[0;34m\u001b[0m\u001b[0m\n\u001b[1;32m      4\u001b[0m \u001b[0mprint\u001b[0m\u001b[0;34m(\u001b[0m\u001b[0;34m'so you are %s years, your weight is %s kg, your high is %s cm'\u001b[0m\u001b[0;34m%\u001b[0m\u001b[0;34m(\u001b[0m\u001b[0mage\u001b[0m\u001b[0;34m,\u001b[0m\u001b[0mweight\u001b[0m\u001b[0;34m,\u001b[0m\u001b[0mhigh\u001b[0m\u001b[0;34m)\u001b[0m\u001b[0;34m)\u001b[0m\u001b[0;34m\u001b[0m\u001b[0;34m\u001b[0m\u001b[0m\n",
      "\u001b[0;32m~/opt/anaconda3/lib/python3.7/site-packages/ipykernel/kernelbase.py\u001b[0m in \u001b[0;36mraw_input\u001b[0;34m(self, prompt)\u001b[0m\n\u001b[1;32m    858\u001b[0m             \u001b[0mself\u001b[0m\u001b[0;34m.\u001b[0m\u001b[0m_parent_ident\u001b[0m\u001b[0;34m,\u001b[0m\u001b[0;34m\u001b[0m\u001b[0;34m\u001b[0m\u001b[0m\n\u001b[1;32m    859\u001b[0m             \u001b[0mself\u001b[0m\u001b[0;34m.\u001b[0m\u001b[0m_parent_header\u001b[0m\u001b[0;34m,\u001b[0m\u001b[0;34m\u001b[0m\u001b[0;34m\u001b[0m\u001b[0m\n\u001b[0;32m--> 860\u001b[0;31m             \u001b[0mpassword\u001b[0m\u001b[0;34m=\u001b[0m\u001b[0;32mFalse\u001b[0m\u001b[0;34m,\u001b[0m\u001b[0;34m\u001b[0m\u001b[0;34m\u001b[0m\u001b[0m\n\u001b[0m\u001b[1;32m    861\u001b[0m         )\n\u001b[1;32m    862\u001b[0m \u001b[0;34m\u001b[0m\u001b[0m\n",
      "\u001b[0;32m~/opt/anaconda3/lib/python3.7/site-packages/ipykernel/kernelbase.py\u001b[0m in \u001b[0;36m_input_request\u001b[0;34m(self, prompt, ident, parent, password)\u001b[0m\n\u001b[1;32m    888\u001b[0m             \u001b[0;32mexcept\u001b[0m \u001b[0mKeyboardInterrupt\u001b[0m\u001b[0;34m:\u001b[0m\u001b[0;34m\u001b[0m\u001b[0;34m\u001b[0m\u001b[0m\n\u001b[1;32m    889\u001b[0m                 \u001b[0;31m# re-raise KeyboardInterrupt, to truncate traceback\u001b[0m\u001b[0;34m\u001b[0m\u001b[0;34m\u001b[0m\u001b[0;34m\u001b[0m\u001b[0m\n\u001b[0;32m--> 890\u001b[0;31m                 \u001b[0;32mraise\u001b[0m \u001b[0mKeyboardInterrupt\u001b[0m\u001b[0;34m\u001b[0m\u001b[0;34m\u001b[0m\u001b[0m\n\u001b[0m\u001b[1;32m    891\u001b[0m             \u001b[0;32melse\u001b[0m\u001b[0;34m:\u001b[0m\u001b[0;34m\u001b[0m\u001b[0;34m\u001b[0m\u001b[0m\n\u001b[1;32m    892\u001b[0m                 \u001b[0;32mbreak\u001b[0m\u001b[0;34m\u001b[0m\u001b[0;34m\u001b[0m\u001b[0m\n",
      "\u001b[0;31mKeyboardInterrupt\u001b[0m: "
     ]
    }
   ],
   "source": [
    "age=input('how old are you ?\\n')\n",
    "weight =input('how much weight ?\\n')\n",
    "high=input('how tall ?\\n')\n",
    "print('so you are %s years, your weight is %s kg, your high is %s cm'%(age,weight,high))"
   ]
  },
  {
   "cell_type": "code",
   "execution_count": null,
   "metadata": {},
   "outputs": [],
   "source": [
    "print('请写下两个数字')\n",
    "print('A=')\n",
    "a=input()\n",
    "print('B=')\n",
    "b=input()\n",
    "print('C = A+B =',float(a)+float(b))\n"
   ]
  },
  {
   "cell_type": "code",
   "execution_count": null,
   "metadata": {},
   "outputs": [],
   "source": [
    "a=input('请写下第一个数字\\n')\n",
    "b=input('请写下第二个数字\\n')\n",
    "print(a ,\"+\", b, \"=\", float(a)+float(b))"
   ]
  },
  {
   "cell_type": "code",
   "execution_count": null,
   "metadata": {},
   "outputs": [],
   "source": [
    "print(\"+ and -\",1+1,1-1,1+2-3)"
   ]
  },
  {
   "cell_type": "markdown",
   "metadata": {},
   "source": [
    "# "
   ]
  },
  {
   "cell_type": "code",
   "execution_count": null,
   "metadata": {},
   "outputs": [],
   "source": [
    "a=1\n",
    "b=2\n",
    "a,b=b,a"
   ]
  },
  {
   "cell_type": "code",
   "execution_count": null,
   "metadata": {},
   "outputs": [],
   "source": [
    "print(a,b)\n"
   ]
  },
  {
   "cell_type": "code",
   "execution_count": null,
   "metadata": {},
   "outputs": [],
   "source": [
    "a=int(input('请写下一个数字\\n'))\n",
    "d=a//60//24\n",
    "h=(a//60)%24\n",
    "a=a%60\n",
    "print('现在的时间是',d,'天',h,\":\",a)"
   ]
  },
  {
   "cell_type": "code",
   "execution_count": null,
   "metadata": {},
   "outputs": [],
   "source": [
    "b=1\n",
    "r=1\n",
    "n=1\n",
    "b*(1+r/100)**n"
   ]
  },
  {
   "cell_type": "code",
   "execution_count": null,
   "metadata": {},
   "outputs": [],
   "source": [
    "s='hello'\n",
    "print(s.rfind('e'))"
   ]
  },
  {
   "cell_type": "code",
   "execution_count": null,
   "metadata": {},
   "outputs": [],
   "source": [
    "s=str(2**100)\n",
    "print (s)"
   ]
  },
  {
   "cell_type": "code",
   "execution_count": null,
   "metadata": {},
   "outputs": [],
   "source": [
    "a='Hi'\n",
    "b='B1E'\n",
    "print(a+b+b+a)"
   ]
  },
  {
   "cell_type": "code",
   "execution_count": null,
   "metadata": {},
   "outputs": [],
   "source": [
    "from IPython.core.interactiveshell import InteractiveShell\n",
    "InteractiveShell.ast_node_interactivity = \"all\""
   ]
  },
  {
   "cell_type": "code",
   "execution_count": null,
   "metadata": {},
   "outputs": [],
   "source": [
    "p=['i','l','o','v','e','Liu','Jing','!!!!']\n",
    "p[1:6]\n",
    "p"
   ]
  },
  {
   "cell_type": "code",
   "execution_count": null,
   "metadata": {},
   "outputs": [],
   "source": [
    "s=\"ajsdiajs\"\n",
    "s[2:3]"
   ]
  },
  {
   "cell_type": "code",
   "execution_count": null,
   "metadata": {},
   "outputs": [],
   "source": [
    "def howmany_days(month):\n",
    "    days_in_month=[0,31,28,31,30,31,30,31,31,30,31,30,31]\n",
    "    return days_in_month[month]"
   ]
  },
  {
   "cell_type": "code",
   "execution_count": null,
   "metadata": {},
   "outputs": [],
   "source": [
    "howmany_days(2)"
   ]
  },
  {
   "cell_type": "code",
   "execution_count": null,
   "metadata": {},
   "outputs": [],
   "source": [
    "workdays_str='monday,tuesday,wednesday,thursday,friday,a,b,c'\n",
    "weekdays=workdays_str.split(',')\n",
    "weekdays"
   ]
  },
  {
   "cell_type": "code",
   "execution_count": null,
   "metadata": {},
   "outputs": [],
   "source": [
    "obj_list=[\"str\",1,True,3.14159]\n",
    "obj_list"
   ]
  },
  {
   "cell_type": "code",
   "execution_count": null,
   "metadata": {},
   "outputs": [],
   "source": [
    "List_of_list=[weekdays,obj_list]\n",
    "List_of_list"
   ]
  },
  {
   "cell_type": "code",
   "execution_count": null,
   "metadata": {},
   "outputs": [],
   "source": [
    "List_of_list1=List_of_list[0][0]\n"
   ]
  },
  {
   "cell_type": "code",
   "execution_count": null,
   "metadata": {},
   "outputs": [],
   "source": [
    "del List_of_list[1]\n",
    "List_of_list1\n",
    "List_of_list"
   ]
  },
  {
   "cell_type": "code",
   "execution_count": null,
   "metadata": {},
   "outputs": [],
   "source": [
    "del weekdays[2:]\n",
    "weekdays"
   ]
  },
  {
   "cell_type": "code",
   "execution_count": null,
   "metadata": {},
   "outputs": [],
   "source": [
    "nums=[1,3,4,2,5,6,9]\n",
    "nums\n",
    "nums.sort()\n",
    "nums"
   ]
  },
  {
   "cell_type": "code",
   "execution_count": null,
   "metadata": {},
   "outputs": [],
   "source": [
    "nums=[1,4,2,5]\n",
    "nums\n",
    "sorted_nums=sorted(nums)\n",
    "sorted_nums"
   ]
  },
  {
   "cell_type": "code",
   "execution_count": null,
   "metadata": {},
   "outputs": [],
   "source": [
    "x=sorted(\"ADSFQ\")\n",
    "y=''.join(sorted(\"ADSFQ\"))\n",
    "x\n",
    "y"
   ]
  },
  {
   "cell_type": "code",
   "execution_count": null,
   "metadata": {},
   "outputs": [],
   "source": [
    "a=[1,2,3]\n",
    "b=a\n",
    "c=a.copy()\n",
    "d=a[:]\n",
    "a[0]=2\n",
    "a\n",
    "b\n",
    "c\n",
    "d"
   ]
  },
  {
   "cell_type": "code",
   "execution_count": null,
   "metadata": {},
   "outputs": [],
   "source": [
    "pizza={\n",
    "    \"size\":\"big\",\n",
    "    \"aa\":\"aaaa\"\n",
    "}"
   ]
  },
  {
   "cell_type": "code",
   "execution_count": null,
   "metadata": {},
   "outputs": [],
   "source": [
    "pizza[\"size\"]"
   ]
  },
  {
   "cell_type": "code",
   "execution_count": null,
   "metadata": {},
   "outputs": [],
   "source": [
    "pizza.keys()"
   ]
  },
  {
   "cell_type": "code",
   "execution_count": null,
   "metadata": {},
   "outputs": [],
   "source": [
    "pizza[\"size\"]=[\"small\"]\n",
    "pizza[\"size\"]"
   ]
  },
  {
   "cell_type": "code",
   "execution_count": null,
   "metadata": {},
   "outputs": [],
   "source": [
    "del pizza[\"size\"]\n",
    "pizza"
   ]
  },
  {
   "cell_type": "code",
   "execution_count": null,
   "metadata": {},
   "outputs": [],
   "source": [
    "empty_set = set()\n",
    "empty_set"
   ]
  },
  {
   "cell_type": "code",
   "execution_count": null,
   "metadata": {},
   "outputs": [],
   "source": [
    "even_set={2,4,6,5,6,6,6,5,7}\n",
    "even_set"
   ]
  },
  {
   "cell_type": "code",
   "execution_count": null,
   "metadata": {},
   "outputs": [],
   "source": [
    "even_set={2,4,6,8,10}\n",
    "even1_set={1,3,5,7,9,11,6}\n",
    "#even_set&even1_set                \n",
    "even_set|even1_set              "
   ]
  },
  {
   "cell_type": "code",
   "execution_count": null,
   "metadata": {},
   "outputs": [],
   "source": [
    "even_set-even1_set\n"
   ]
  },
  {
   "cell_type": "code",
   "execution_count": null,
   "metadata": {},
   "outputs": [],
   "source": [
    "even_set^even1_set"
   ]
  },
  {
   "cell_type": "code",
   "execution_count": null,
   "metadata": {},
   "outputs": [],
   "source": [
    "s1='abcdefg'\n",
    "s2='hijklmn'\n",
    "d=list(zip(s1,s2))\n",
    "print(s1)\n",
    "print(s2)\n",
    "s3,s4=zip(*d)\n",
    "print(list(s3))\n",
    "print(list(s4))"
   ]
  },
  {
   "cell_type": "code",
   "execution_count": null,
   "metadata": {},
   "outputs": [],
   "source": [
    "s='hello'\n",
    "print(\"{} id is {}\".format(s,id(s)))"
   ]
  },
  {
   "cell_type": "code",
   "execution_count": null,
   "metadata": {},
   "outputs": [],
   "source": [
    "?format\n"
   ]
  },
  {
   "cell_type": "code",
   "execution_count": null,
   "metadata": {},
   "outputs": [],
   "source": [
    "name_set={\"china\",\"china\",\"english\"}\n",
    "name_set"
   ]
  },
  {
   "cell_type": "code",
   "execution_count": null,
   "metadata": {},
   "outputs": [],
   "source": [
    "s1='abcedfg'\n",
    "s2='hijklmnoplk'\n",
    "d=list(zip(s1,s2))\n"
   ]
  },
  {
   "cell_type": "code",
   "execution_count": null,
   "metadata": {},
   "outputs": [],
   "source": [
    "s3,s4=zip(*d)\n",
    "print(list(s3))\n",
    "print(list(s4))"
   ]
  },
  {
   "cell_type": "code",
   "execution_count": null,
   "metadata": {},
   "outputs": [],
   "source": [
    "print(s1)"
   ]
  },
  {
   "cell_type": "code",
   "execution_count": null,
   "metadata": {},
   "outputs": [],
   "source": [
    "s='hello'\n",
    "print(\"{} id is {}\".format(s,id(s)))"
   ]
  },
  {
   "cell_type": "code",
   "execution_count": null,
   "metadata": {},
   "outputs": [],
   "source": [
    "s=s+'w'\n",
    "print(\"{} id is {}\".format(s,id(s)))"
   ]
  },
  {
   "cell_type": "code",
   "execution_count": null,
   "metadata": {},
   "outputs": [],
   "source": [
    "try_result=[]\n",
    "def try_func(arg,result):\n",
    "    print(\"inside before result is labeled {},value {}\".format(id(result),result))\n",
    "    result.append(arg)\n",
    "    print(\"inside after result is labeled {} ,value {}\".format(id(result),result))\n",
    "    "
   ]
  },
  {
   "cell_type": "code",
   "execution_count": null,
   "metadata": {},
   "outputs": [],
   "source": [
    "try_result\n"
   ]
  },
  {
   "cell_type": "code",
   "execution_count": null,
   "metadata": {},
   "outputs": [],
   "source": [
    "def reverseWords(input):\n",
    "    inputWords = input.split(\" \")\n",
    "    inputWords = inputWords[-1::-1]\n",
    "    output = ' '.join (inputWords)\n",
    "    return output\n",
    "\n",
    "if __name__ == \"__main__\":\n",
    "    input = 'i like runoob'\n",
    "    rw = reverseWords(input)\n",
    "    print(rw)"
   ]
  },
  {
   "cell_type": "code",
   "execution_count": null,
   "metadata": {},
   "outputs": [],
   "source": [
    "a=3\n",
    "b=2\n",
    "c=0\n",
    "\n",
    "c=a**b\n",
    "print(c)"
   ]
  },
  {
   "cell_type": "code",
   "execution_count": null,
   "metadata": {},
   "outputs": [],
   "source": [
    "c=21\n",
    "b=10\n",
    "c=0\n",
    "if (a==b):\n",
    "     print(\"a 等于 b\")\n",
    "else:\n",
    "        print(\"a 不等于 b\")\n",
    "        "
   ]
  },
  {
   "cell_type": "code",
   "execution_count": null,
   "metadata": {},
   "outputs": [],
   "source": [
    "if (a!=b):\n",
    "    print(\"a 不等于 b\")\n",
    "else: \n",
    "    print(\"a 等于 b\")"
   ]
  },
  {
   "cell_type": "code",
   "execution_count": null,
   "metadata": {},
   "outputs": [],
   "source": [
    "x=True\n",
    "y=False\n",
    "z=False\n",
    "\n",
    "if not x or y:\n",
    "    print (1)\n",
    "elif not x or not y and z:\n",
    "    print(2)\n",
    "\n",
    "else:\n",
    "    print(4)\n"
   ]
  },
  {
   "cell_type": "code",
   "execution_count": null,
   "metadata": {},
   "outputs": [],
   "source": [
    "input(\"按下 enter 键后退出。\")\n"
   ]
  },
  {
   "cell_type": "code",
   "execution_count": null,
   "metadata": {},
   "outputs": [],
   "source": [
    "input(\"a\")\n"
   ]
  },
  {
   "cell_type": "code",
   "execution_count": null,
   "metadata": {},
   "outputs": [],
   "source": [
    "import sys;x='runoob';sys.stdout.write(x+'\\n')"
   ]
  },
  {
   "cell_type": "code",
   "execution_count": null,
   "metadata": {},
   "outputs": [],
   "source": [
    "help.sys.stdout\n"
   ]
  },
  {
   "cell_type": "code",
   "execution_count": null,
   "metadata": {},
   "outputs": [],
   "source": [
    "x=\"a\"\n",
    "y=\"b\"\n",
    "print(x)\n",
    "print(y)\n",
    "print('_____')\n",
    "print(x,end=\" \")\n",
    "print(y,end=\" \")"
   ]
  },
  {
   "cell_type": "code",
   "execution_count": null,
   "metadata": {},
   "outputs": [],
   "source": [
    "list123=['abcd',786,2.23,'runoob']#list\n",
    "print(list123)\n",
    "print(list123[0])\n",
    "print(list123[1:3])\n",
    "print(list123*3)\n",
    "print(list123+list123)"
   ]
  },
  {
   "cell_type": "code",
   "execution_count": null,
   "metadata": {},
   "outputs": [],
   "source": [
    "student = {'Xfr','Zc','Lyr','kunijiwa','Zsx','ppZ'}#set\n",
    "print(student)\n",
    "if 'Xfr' in student:\n",
    "    print('Xfr 在学生中')\n",
    "else :\n",
    "        print('Xfr 不在学生中')\n",
    "\n",
    "a=set('abcd')\n",
    "b=set('abdd')\n",
    "print (a)\n",
    "print(a-b) #a和b的差集\n",
    "print(a|b) #a和b的并集\n",
    "print(a&b) #a和b的交集\n",
    "print(a^b) #a和b中不同时存在的元素"
   ]
  },
  {
   "cell_type": "code",
   "execution_count": 7,
   "metadata": {},
   "outputs": [
    {
     "name": "stdout",
     "output_type": "stream",
     "text": [
      "1-变量a和b都为true\n",
      "2-变量a和b都为true ,或有一个为true\n",
      "3-变量a和b有一个不为true\n",
      "4-变量a和b都为true，或有一个为true\n"
     ]
    }
   ],
   "source": [
    "a=10  #逻辑判断中 只要不是0的都是true 优先级顺序为not and or\n",
    "b=20\n",
    "if(a and b):\n",
    "    print (\"1-变量a和b都为true\")\n",
    "else:\n",
    "    print(\"1-变量a和b有一个不为true\")\n",
    "\n",
    "if (a or b):\n",
    "    print(\"2-变量a和b都为true ,或有一个为true\")       \n",
    "else:\n",
    "    print(\"2-变量a和b都不为true\")\n",
    "a=0 \n",
    "if(a and b):\n",
    "    print(\"3-变量a和b都为true\")\n",
    "else:\n",
    "    print(\"3-变量a和b有一个不为true\")\n",
    "\n",
    "if(a or b):\n",
    "    print(\"4-变量a和b都为true，或有一个为true\")\n",
    "else:\n",
    "    print(\"4-变量a和b都不为true\")"
   ]
  },
  {
   "cell_type": "code",
   "execution_count": 8,
   "metadata": {},
   "outputs": [
    {
     "name": "stdout",
     "output_type": "stream",
     "text": [
      "1-a不在列表中\n",
      "2-b在列表中\n",
      "3-c不在列表中\n"
     ]
    }
   ],
   "source": [
    "a=10\n",
    "b=2\n",
    "c=23\n",
    "list=[1,2,3,4,5,6,7,8,9,0]\n",
    "if (a in list):\n",
    "    print(\"1-a在列表中\")\n",
    "else:\n",
    "    print(\"1-a不在列表中\")\n",
    "\n",
    "if (b not in list):\n",
    "    print(\"2-b不在列表中\")\n",
    "else:\n",
    "    print(\"2-b在列表中\")\n",
    "if (c in list):\n",
    "    print(\"3-c在列表中\")\n",
    "else:\n",
    "    print(\"3-c不在列表中\")"
   ]
  },
  {
   "cell_type": "code",
   "execution_count": 9,
   "metadata": {},
   "outputs": [
    {
     "name": "stdout",
     "output_type": "stream",
     "text": [
      "True\n"
     ]
    }
   ],
   "source": [
    "x=1\n",
    "y=2\n",
    "print(x<y)"
   ]
  },
  {
   "cell_type": "code",
   "execution_count": 11,
   "metadata": {},
   "outputs": [
    {
     "ename": "NameError",
     "evalue": "name 'math' is not defined",
     "output_type": "error",
     "traceback": [
      "\u001b[0;31m---------------------------------------------------------------------------\u001b[0m",
      "\u001b[0;31mNameError\u001b[0m                                 Traceback (most recent call last)",
      "\u001b[0;32m<ipython-input-11-ba4ac9423f23>\u001b[0m in \u001b[0;36m<module>\u001b[0;34m\u001b[0m\n\u001b[0;32m----> 1\u001b[0;31m \u001b[0mmath\u001b[0m\u001b[0;34m.\u001b[0m\u001b[0mexp\u001b[0m\u001b[0;34m(\u001b[0m\u001b[0;36m2\u001b[0m\u001b[0;34m)\u001b[0m\u001b[0;34m\u001b[0m\u001b[0;34m\u001b[0m\u001b[0m\n\u001b[0m",
      "\u001b[0;31mNameError\u001b[0m: name 'math' is not defined"
     ]
    }
   ],
   "source": [
    "math.exp(2)"
   ]
  },
  {
   "cell_type": "code",
   "execution_count": 12,
   "metadata": {},
   "outputs": [
    {
     "ename": "NameError",
     "evalue": "name 'random' is not defined",
     "output_type": "error",
     "traceback": [
      "\u001b[0;31m---------------------------------------------------------------------------\u001b[0m",
      "\u001b[0;31mNameError\u001b[0m                                 Traceback (most recent call last)",
      "\u001b[0;32m<ipython-input-12-53d63af267ab>\u001b[0m in \u001b[0;36m<module>\u001b[0;34m\u001b[0m\n\u001b[0;32m----> 1\u001b[0;31m \u001b[0mrandom\u001b[0m\u001b[0;34m.\u001b[0m\u001b[0mchoice\u001b[0m\u001b[0;34m(\u001b[0m\u001b[0mrange\u001b[0m\u001b[0;34m(\u001b[0m\u001b[0;36m10\u001b[0m\u001b[0;34m)\u001b[0m\u001b[0;34m)\u001b[0m\u001b[0;34m\u001b[0m\u001b[0;34m\u001b[0m\u001b[0m\n\u001b[0m",
      "\u001b[0;31mNameError\u001b[0m: name 'random' is not defined"
     ]
    }
   ],
   "source": [
    "random.choice(range(10))\n"
   ]
  },
  {
   "cell_type": "code",
   "execution_count": 16,
   "metadata": {},
   "outputs": [
    {
     "data": {
      "text/plain": [
       "'hello world!'"
      ]
     },
     "execution_count": 16,
     "metadata": {},
     "output_type": "execute_result"
    }
   ],
   "source": [
    "var1='hello world!!!!!'\n",
    "var1[:12]"
   ]
  },
  {
   "cell_type": "code",
   "execution_count": 18,
   "metadata": {},
   "outputs": [
    {
     "ename": "NameError",
     "evalue": "name 'exp' is not defined",
     "output_type": "error",
     "traceback": [
      "\u001b[0;31m---------------------------------------------------------------------------\u001b[0m",
      "\u001b[0;31mNameError\u001b[0m                                 Traceback (most recent call last)",
      "\u001b[0;32m<ipython-input-18-c72d75bd9877>\u001b[0m in \u001b[0;36m<module>\u001b[0;34m\u001b[0m\n\u001b[1;32m      1\u001b[0m \u001b[0;32mimport\u001b[0m \u001b[0mmath\u001b[0m\u001b[0;34m\u001b[0m\u001b[0;34m\u001b[0m\u001b[0m\n\u001b[0;32m----> 2\u001b[0;31m \u001b[0mexp\u001b[0m\u001b[0;34m(\u001b[0m\u001b[0;36m2\u001b[0m\u001b[0;34m)\u001b[0m\u001b[0;34m\u001b[0m\u001b[0;34m\u001b[0m\u001b[0m\n\u001b[0m",
      "\u001b[0;31mNameError\u001b[0m: name 'exp' is not defined"
     ]
    }
   ],
   "source": [
    "import math\n",
    "exp(2)"
   ]
  },
  {
   "cell_type": "code",
   "execution_count": 19,
   "metadata": {},
   "outputs": [
    {
     "data": {
      "text/plain": [
       "7.38905609893065"
      ]
     },
     "execution_count": 19,
     "metadata": {},
     "output_type": "execute_result"
    }
   ],
   "source": [
    "math.exp(2)\n"
   ]
  },
  {
   "cell_type": "code",
   "execution_count": 20,
   "metadata": {},
   "outputs": [
    {
     "data": {
      "text/plain": [
       "1"
      ]
     },
     "execution_count": 20,
     "metadata": {},
     "output_type": "execute_result"
    }
   ],
   "source": [
    "abs(-1)\n"
   ]
  },
  {
   "cell_type": "code",
   "execution_count": 21,
   "metadata": {},
   "outputs": [
    {
     "ename": "NameError",
     "evalue": "name 'random' is not defined",
     "output_type": "error",
     "traceback": [
      "\u001b[0;31m---------------------------------------------------------------------------\u001b[0m",
      "\u001b[0;31mNameError\u001b[0m                                 Traceback (most recent call last)",
      "\u001b[0;32m<ipython-input-21-53d63af267ab>\u001b[0m in \u001b[0;36m<module>\u001b[0;34m\u001b[0m\n\u001b[0;32m----> 1\u001b[0;31m \u001b[0mrandom\u001b[0m\u001b[0;34m.\u001b[0m\u001b[0mchoice\u001b[0m\u001b[0;34m(\u001b[0m\u001b[0mrange\u001b[0m\u001b[0;34m(\u001b[0m\u001b[0;36m10\u001b[0m\u001b[0;34m)\u001b[0m\u001b[0;34m)\u001b[0m\u001b[0;34m\u001b[0m\u001b[0;34m\u001b[0m\u001b[0m\n\u001b[0m",
      "\u001b[0;31mNameError\u001b[0m: name 'random' is not defined"
     ]
    }
   ],
   "source": [
    "random.choice(range(10))"
   ]
  },
  {
   "cell_type": "code",
   "execution_count": 24,
   "metadata": {},
   "outputs": [],
   "source": [
    "import random\n"
   ]
  },
  {
   "cell_type": "code",
   "execution_count": 26,
   "metadata": {},
   "outputs": [
    {
     "data": {
      "text/plain": [
       "range(0, 10)"
      ]
     },
     "execution_count": 26,
     "metadata": {},
     "output_type": "execute_result"
    }
   ],
   "source": [
    "random.choice(range(10))\n",
    "range(10)"
   ]
  },
  {
   "cell_type": "code",
   "execution_count": 36,
   "metadata": {},
   "outputs": [
    {
     "name": "stdout",
     "output_type": "stream",
     "text": [
      "59\n",
      "88\n"
     ]
    }
   ],
   "source": [
    "print(random.randrange(1,100,2))\n",
    "print(random.randrange(100))"
   ]
  },
  {
   "cell_type": "code",
   "execution_count": 40,
   "metadata": {},
   "outputs": [
    {
     "data": {
      "text/plain": [
       "[201, 98, 35, 1999, 20]"
      ]
     },
     "execution_count": 40,
     "metadata": {},
     "output_type": "execute_result"
    }
   ],
   "source": [
    "list=[20,35,98,1999,201]\n",
    "random.shuffle(list)\n",
    "list"
   ]
  },
  {
   "cell_type": "code",
   "execution_count": 41,
   "metadata": {},
   "outputs": [],
   "source": [
    "import numpy as np"
   ]
  },
  {
   "cell_type": "code",
   "execution_count": 42,
   "metadata": {},
   "outputs": [
    {
     "data": {
      "text/plain": [
       "8"
      ]
     },
     "execution_count": 42,
     "metadata": {},
     "output_type": "execute_result"
    }
   ],
   "source": [
    "np.random.choice(range(10))"
   ]
  },
  {
   "cell_type": "code",
   "execution_count": 46,
   "metadata": {},
   "outputs": [
    {
     "name": "stdout",
     "output_type": "stream",
     "text": [
      "@# this is a example !!!\n",
      "This is a example !!!\n"
     ]
    }
   ],
   "source": [
    "str=\"@# this is a example !!!\"##首字符是字母是才有用\n",
    "print(str.capitalize())\n",
    "str2=\"this is a example !!!\"\n",
    "print(str2.capitalize())"
   ]
  },
  {
   "cell_type": "code",
   "execution_count": 83,
   "metadata": {},
   "outputs": [
    {
     "name": "stdout",
     "output_type": "stream",
     "text": [
      "3\n",
      "-1\n"
     ]
    }
   ],
   "source": [
    "str=\"www.runoob.com\"\n",
    "sub='o'\n",
    "print(str.count(sub))\n",
    "print(str.find(sub,9,10))"
   ]
  },
  {
   "cell_type": "code",
   "execution_count": 52,
   "metadata": {},
   "outputs": [
    {
     "data": {
      "text/plain": [
       "14"
      ]
     },
     "execution_count": 52,
     "metadata": {},
     "output_type": "execute_result"
    }
   ],
   "source": [
    "len(str)"
   ]
  },
  {
   "cell_type": "code",
   "execution_count": 56,
   "metadata": {},
   "outputs": [
    {
     "name": "stdout",
     "output_type": "stream",
     "text": [
      "google\n",
      "[3, 4, 5, 6, 7]\n",
      "2\n",
      "[2, 'lol', 'roit']\n"
     ]
    }
   ],
   "source": [
    "list1=[\"google\",\"lol\",\"roit\",1997]\n",
    "list2=[1,2,3,4,5,6,7,8]\n",
    "print(list1[0])\n",
    "list1[0]=2\n",
    "print(list2[2:7])\n",
    "print(list1[0])\n",
    "del list1[3]\n",
    "print (list1)"
   ]
  },
  {
   "cell_type": "code",
   "execution_count": 58,
   "metadata": {},
   "outputs": [
    {
     "name": "stdout",
     "output_type": "stream",
     "text": [
      "[[1, 2, 3, 4], ['a', 'b', 'c', 'd']]\n"
     ]
    },
    {
     "data": {
      "text/plain": [
       "[1, 2, 3, 4]"
      ]
     },
     "execution_count": 58,
     "metadata": {},
     "output_type": "execute_result"
    }
   ],
   "source": [
    "a=[1,2,3,4]\n",
    "b=[\"a\",\"b\",\"c\",\"d\"]\n",
    "A=[a,b]\n",
    "print(A)\n",
    "A[0]"
   ]
  },
  {
   "cell_type": "code",
   "execution_count": 80,
   "metadata": {},
   "outputs": [
    {
     "name": "stdout",
     "output_type": "stream",
     "text": [
      "1\n"
     ]
    }
   ],
   "source": [
    "Alist=[1234,\"google\",\"oo\",\"Taobao\",\"1234\"]\n",
    "print(Alist.count(1234))"
   ]
  },
  {
   "cell_type": "code",
   "execution_count": 81,
   "metadata": {},
   "outputs": [
    {
     "name": "stdout",
     "output_type": "stream",
     "text": [
      "[1234, 'google', 'oo', 'Taobao', '1234', 'baudi*2']\n"
     ]
    }
   ],
   "source": [
    "\n",
    "Alist.append(\"baudi*2\")\n",
    "print(Alist)"
   ]
  },
  {
   "cell_type": "code",
   "execution_count": 71,
   "metadata": {},
   "outputs": [
    {
     "name": "stdout",
     "output_type": "stream",
     "text": [
      "1234\n",
      "google\n",
      "oo\n",
      "Taobao\n",
      "1234\n"
     ]
    }
   ],
   "source": [
    "for i in range(5):\n",
    "    print(Alist[i])\n",
    "    "
   ]
  },
  {
   "cell_type": "code",
   "execution_count": 76,
   "metadata": {},
   "outputs": [
    {
     "data": {
      "text/plain": [
       "'1'"
      ]
     },
     "execution_count": 76,
     "metadata": {},
     "output_type": "execute_result"
    }
   ],
   "source": [
    "Alist.pop()"
   ]
  },
  {
   "cell_type": "code",
   "execution_count": 77,
   "metadata": {},
   "outputs": [
    {
     "data": {
      "text/plain": [
       "[]"
      ]
     },
     "execution_count": 77,
     "metadata": {},
     "output_type": "execute_result"
    }
   ],
   "source": [
    "Alist"
   ]
  },
  {
   "cell_type": "code",
   "execution_count": 87,
   "metadata": {},
   "outputs": [
    {
     "data": {
      "text/plain": [
       "['google', 'baidu', 'Xfr', 'lol']"
      ]
     },
     "execution_count": 87,
     "metadata": {},
     "output_type": "execute_result"
    }
   ],
   "source": [
    "List=[\"google\",'baidu','lol']\n",
    "List.insert(2,'Xfr')\n",
    "List"
   ]
  },
  {
   "cell_type": "code",
   "execution_count": 89,
   "metadata": {},
   "outputs": [
    {
     "name": "stdout",
     "output_type": "stream",
     "text": [
      "['google', 'baidu']\n"
     ]
    }
   ],
   "source": [
    "List.pop(-1)\n",
    "print(List)"
   ]
  },
  {
   "cell_type": "code",
   "execution_count": 90,
   "metadata": {},
   "outputs": [
    {
     "name": "stdout",
     "output_type": "stream",
     "text": [
      "[]\n"
     ]
    }
   ],
   "source": [
    "List.clear()\n",
    "print(List)"
   ]
  },
  {
   "cell_type": "code",
   "execution_count": 100,
   "metadata": {},
   "outputs": [
    {
     "ename": "SyntaxError",
     "evalue": "invalid syntax (<ipython-input-100-f5904afd3860>, line 3)",
     "output_type": "error",
     "traceback": [
      "\u001b[0;36m  File \u001b[0;32m\"<ipython-input-100-f5904afd3860>\"\u001b[0;36m, line \u001b[0;32m3\u001b[0m\n\u001b[0;31m    print(tup1[0:3]2\u001b[0m\n\u001b[0m                   ^\u001b[0m\n\u001b[0;31mSyntaxError\u001b[0m\u001b[0;31m:\u001b[0m invalid syntax\n"
     ]
    }
   ],
   "source": [
    "tup1=(1,2,3,4,5,'google')\n",
    "print(tup1[5])\n",
    "print(tup1[0:3]2"
   ]
  },
  {
   "cell_type": "code",
   "execution_count": 97,
   "metadata": {},
   "outputs": [
    {
     "name": "stdout",
     "output_type": "stream",
     "text": [
      "(1, 2, 3, 4, 5, 'google', 'zry', 'xfr')\n"
     ]
    }
   ],
   "source": [
    "tup2=('zry','xfr')\n",
    "tup3=tup1+tup2\n",
    "print(tup3)"
   ]
  },
  {
   "cell_type": "code",
   "execution_count": 98,
   "metadata": {},
   "outputs": [
    {
     "ename": "NameError",
     "evalue": "name 'tup3' is not defined",
     "output_type": "error",
     "traceback": [
      "\u001b[0;31m---------------------------------------------------------------------------\u001b[0m",
      "\u001b[0;31mNameError\u001b[0m                                 Traceback (most recent call last)",
      "\u001b[0;32m<ipython-input-98-751904e3d0c5>\u001b[0m in \u001b[0;36m<module>\u001b[0;34m\u001b[0m\n\u001b[1;32m      1\u001b[0m \u001b[0;32mdel\u001b[0m \u001b[0mtup3\u001b[0m\u001b[0;34m\u001b[0m\u001b[0;34m\u001b[0m\u001b[0m\n\u001b[0;32m----> 2\u001b[0;31m \u001b[0mprint\u001b[0m\u001b[0;34m(\u001b[0m\u001b[0mtup3\u001b[0m\u001b[0;34m)\u001b[0m\u001b[0;34m\u001b[0m\u001b[0;34m\u001b[0m\u001b[0m\n\u001b[0m",
      "\u001b[0;31mNameError\u001b[0m: name 'tup3' is not defined"
     ]
    }
   ],
   "source": [
    "del tup3\n",
    "print(tup3)"
   ]
  },
  {
   "cell_type": "code",
   "execution_count": 106,
   "metadata": {},
   "outputs": [
    {
     "data": {
      "text/plain": [
       "96"
      ]
     },
     "execution_count": 106,
     "metadata": {},
     "output_type": "execute_result"
    }
   ],
   "source": [
    "len(tup2)\n",
    "tup1=(1,2,96,29,3,1,2)\n",
    "max(tup1)"
   ]
  },
  {
   "cell_type": "code",
   "execution_count": 108,
   "metadata": {},
   "outputs": [
    {
     "data": {
      "text/plain": [
       "(1234, 'google', 'oo', 'Taobao', '1234', 'baudi*2')"
      ]
     },
     "execution_count": 108,
     "metadata": {},
     "output_type": "execute_result"
    }
   ],
   "source": [
    "tup2=tuple(Alist)\n",
    "tup2"
   ]
  },
  {
   "cell_type": "code",
   "execution_count": 118,
   "metadata": {},
   "outputs": [
    {
     "name": "stdout",
     "output_type": "stream",
     "text": [
      "21\n"
     ]
    }
   ],
   "source": [
    "dict={'Name1':'xfr','Name2':'zry','Age1':22,'Age2':21}\n",
    "print(dict['Age2'])"
   ]
  },
  {
   "cell_type": "code",
   "execution_count": 111,
   "metadata": {},
   "outputs": [
    {
     "name": "stdout",
     "output_type": "stream",
     "text": [
      "{'Name1': 'xfr', 'Name2': 'zry', 'Age1': 22, 'Age2': 22}\n"
     ]
    }
   ],
   "source": [
    "dict['Age2']=22\n",
    "print(dict)"
   ]
  },
  {
   "cell_type": "code",
   "execution_count": 112,
   "metadata": {},
   "outputs": [
    {
     "name": "stdout",
     "output_type": "stream",
     "text": [
      "{'Name2': 'zry', 'Age1': 22, 'Age2': 22}\n"
     ]
    }
   ],
   "source": [
    "del dict['Name1']\n",
    "print(dict)"
   ]
  },
  {
   "cell_type": "code",
   "execution_count": 119,
   "metadata": {},
   "outputs": [
    {
     "data": {
      "text/plain": [
       "'zry'"
      ]
     },
     "execution_count": 119,
     "metadata": {},
     "output_type": "execute_result"
    }
   ],
   "source": [
    "dict1=dict.pop('Name2')\n",
    "dict1"
   ]
  },
  {
   "cell_type": "code",
   "execution_count": 123,
   "metadata": {},
   "outputs": [
    {
     "name": "stdout",
     "output_type": "stream",
     "text": [
      "1,1,2,3,5,8,13,21,34,55,89,144,233,377,610,987,"
     ]
    }
   ],
   "source": [
    "a,b=0,1\n",
    "while b<1000:\n",
    "    print(b,end=',')\n",
    "    n=b\n",
    "    m=a+b\n",
    "    a=n\n",
    "    b=m"
   ]
  },
  {
   "cell_type": "code",
   "execution_count": 126,
   "metadata": {},
   "outputs": [
    {
     "name": "stdout",
     "output_type": "stream",
     "text": [
      "1-if表达式的值为1\n",
      "2-if表达式的值为0\n"
     ]
    }
   ],
   "source": [
    "v1=100\n",
    "if v1:\n",
    "    print(\"1-if表达式的值为1\")\n",
    "else:\n",
    "    print(\"1-if表达式的值为0\")\n",
    "v2=0\n",
    "if v2:\n",
    "    print(\"2-if表达式的值为1\")\n",
    "else:\n",
    "    print('2-if表达式的值为0')"
   ]
  },
  {
   "cell_type": "code",
   "execution_count": 129,
   "metadata": {},
   "outputs": [
    {
     "name": "stdout",
     "output_type": "stream",
     "text": [
      "请输入你家狗的年龄：5\n",
      "\n",
      "相当于 37 岁的人\n"
     ]
    }
   ],
   "source": [
    "age=int(input(\"请输入你家狗的年龄：\"))\n",
    "print(\"\")\n",
    "if age<=0:\n",
    "    print(\"你在写皮皮\")\n",
    "elif age == 1:\n",
    "    print('相当于14岁的人')\n",
    "elif age == 2:\n",
    "    print('相当于22岁的人')\n",
    "elif age>2:\n",
    "    human=22+(age-2)*5\n",
    "    print('相当于',human,'岁的人')\n"
   ]
  },
  {
   "cell_type": "code",
   "execution_count": 133,
   "metadata": {},
   "outputs": [
    {
     "name": "stdout",
     "output_type": "stream",
     "text": [
      "欢迎来到猜数字游戏!!\n",
      "请裁判写下数字!!\n",
      "裁判写下的数字：8\n",
      "请输入心中的数字9\n",
      "太大了，请再小点 :)\n",
      "请输入心中的数字3\n",
      "太小了，请再大点 :)\n",
      "请输入心中的数字5\n",
      "太小了，请再大点 :)\n",
      "请输入心中的数字8\n",
      "恭喜，你猜对了\n"
     ]
    }
   ],
   "source": [
    "print(\"欢迎来到猜数字游戏!!\")\n",
    "print(\"请裁判写下数字!!\")\n",
    "Num1=int(input(\"裁判写下的数字：\"))\n",
    "while Gus!=Num1:\n",
    "    Gus=int(input('请输入心中的数字'))\n",
    "    \n",
    "    if Gus==Num1:\n",
    "        print(\"恭喜，你猜对了\")\n",
    "    elif Gus<Num1:\n",
    "        print(\"太小了，请再大点 :)\")\n",
    "    elif Gus>Num1:\n",
    "        print(\"太大了，请再小点 :)\")\n",
    "    "
   ]
  },
  {
   "cell_type": "code",
   "execution_count": 138,
   "metadata": {},
   "outputs": [
    {
     "name": "stdout",
     "output_type": "stream",
     "text": [
      "请输入一个数字：9\n",
      "你的数字可以整除3，但不能整除2\n"
     ]
    }
   ],
   "source": [
    "Num=int(input(\"请输入一个数字：\"))\n",
    "if Num%2==0:\n",
    "    if Num%3==0: \n",
    "        print(\"你的数字可以整除2和3\")\n",
    "    else:\n",
    "        print(\"你的数字可以整除2，但不能整除3\")\n",
    "else:\n",
    "    if Num%3==0:\n",
    "        print(\"你的数字可以整除3，但不能整除2\")\n",
    "    else :\n",
    "        print(\"你的数字不能被2 或 3 整除\")"
   ]
  },
  {
   "cell_type": "code",
   "execution_count": 143,
   "metadata": {},
   "outputs": [
    {
     "name": "stdout",
     "output_type": "stream",
     "text": [
      "1,3,5,7,9,11,13,15,17,19,21,"
     ]
    }
   ],
   "source": [
    "a=1\n",
    "while a<22:\n",
    "    print(a,end=',')\n",
    "    a+=2"
   ]
  },
  {
   "cell_type": "code",
   "execution_count": 146,
   "metadata": {},
   "outputs": [
    {
     "name": "stdout",
     "output_type": "stream",
     "text": [
      "我来帮你算从1到n的所有整数的和\n",
      "告诉我你想计算的n\n",
      "100\n",
      "从1到100的和为: 5050\n"
     ]
    }
   ],
   "source": [
    "print(\"我来帮你算从1到n的所有整数的和\")\n",
    "print(\"告诉我你想计算的n\")\n",
    "n=int(input())\n",
    "counter=1\n",
    "sum=0\n",
    "while counter<=n:\n",
    "    sum=sum+counter\n",
    "    counter+=1\n",
    "print(\"从1到%d的和为: %d\" %(n,sum))\n"
   ]
  },
  {
   "cell_type": "code",
   "execution_count": 9,
   "metadata": {},
   "outputs": [
    {
     "name": "stdout",
     "output_type": "stream",
     "text": [
      "帮我计算一下这个车票问题\n",
      "国家总共退了：11500\n",
      "每个中国人退掉多少张票？\n",
      "821.4285714285714\n"
     ]
    }
   ],
   "source": [
    "print(\"帮我计算一下这个车票问题\")\n",
    "Z=int(input(\"国家总共退了：\"))\n",
    "n=14\n",
    "print(\"每个中国人退掉多少张票？\")\n",
    "print(Z/n)"
   ]
  },
  {
   "cell_type": "code",
   "execution_count": 12,
   "metadata": {},
   "outputs": [
    {
     "name": "stdout",
     "output_type": "stream",
     "text": [
      "爽不爽，爽吧，真爽\n",
      "爽不爽，爽吧，真爽\n",
      "爽不爽，爽吧，真爽\n",
      "爽不爽，爽吧，真爽\n",
      "爽不爽，爽吧，真爽\n",
      "爽不爽，爽吧，真爽\n",
      "爽不爽，爽吧，真爽\n",
      "爽不爽，爽吧，真爽\n",
      "爽不爽，爽吧，真爽\n"
     ]
    }
   ],
   "source": [
    "n=1\n",
    "flag=1\n",
    "while(flag) :\n",
    "    print(\"爽不爽，爽吧，真爽\")\n",
    "    n=n+1\n",
    "    if n>=10:\n",
    "        flag=0\n"
   ]
  },
  {
   "cell_type": "code",
   "execution_count": 13,
   "metadata": {},
   "outputs": [
    {
     "name": "stdout",
     "output_type": "stream",
     "text": [
      "c\n",
      "c++\n",
      "python\n",
      "matlab\n"
     ]
    }
   ],
   "source": [
    "languages=[\"c\",\"c++\",\"python\",\"matlab\"]\n",
    "for x in languages:\n",
    "    print(x)"
   ]
  },
  {
   "cell_type": "code",
   "execution_count": 17,
   "metadata": {},
   "outputs": [
    {
     "name": "stdout",
     "output_type": "stream",
     "text": [
      "循环过的数据: baidu\n",
      "循环过的数据: google\n",
      "淘宝！\n",
      "遍历到淘宝，完成循环！\n"
     ]
    }
   ],
   "source": [
    "sites=[\"baidu\",\"google\",\"taobao\"]\n",
    "for site in sites:\n",
    "    if site == \"taobao\":\n",
    "        print(\"淘宝！\")\n",
    "        break\n",
    "    print(\"循环过的数据\"+\":\",site)\n",
    "else:\n",
    "    print(\"没有循环数据\")\n",
    "print(\"遍历到淘宝，完成循环！\")"
   ]
  },
  {
   "cell_type": "code",
   "execution_count": 20,
   "metadata": {},
   "outputs": [
    {
     "name": "stdout",
     "output_type": "stream",
     "text": [
      "0\n",
      "1\n",
      "2\n",
      "3\n",
      "4\n"
     ]
    }
   ],
   "source": [
    "for i in range(5):\n",
    "    print(i)"
   ]
  },
  {
   "cell_type": "code",
   "execution_count": 21,
   "metadata": {},
   "outputs": [
    {
     "name": "stdout",
     "output_type": "stream",
     "text": [
      "0 谷歌\n",
      "1 百度\n",
      "2 腾讯\n",
      "3 淘宝\n",
      "4 微信\n"
     ]
    }
   ],
   "source": [
    "a=['谷歌','百度','腾讯','淘宝','微信']\n",
    "for i in range(len(a)):\n",
    "    print(i,a[i])"
   ]
  },
  {
   "cell_type": "code",
   "execution_count": 22,
   "metadata": {},
   "outputs": [
    {
     "name": "stdout",
     "output_type": "stream",
     "text": [
      "4\n",
      "3\n",
      "1\n",
      "0\n",
      "循环结束\n"
     ]
    }
   ],
   "source": [
    "n=5\n",
    "while n>0:\n",
    "    n=n-1\n",
    "    if n==2:\n",
    "        continue\n",
    "    print(n)\n",
    "print(\"循环结束\")"
   ]
  },
  {
   "cell_type": "code",
   "execution_count": 33,
   "metadata": {},
   "outputs": [
    {
     "name": "stdout",
     "output_type": "stream",
     "text": [
      "此时的变量值为： 9\n",
      "此时的变量值为： 8\n",
      "此时的变量值为： 7\n",
      "此时的变量值为： 6\n",
      "此时的变量值为： 5\n",
      "此时的变量值为： 4\n",
      "此时的变量值为： 3\n",
      "此时的变量值为： 1\n",
      "此时的变量值为： 0\n",
      "循环结束\n"
     ]
    }
   ],
   "source": [
    "n=10\n",
    "while n>0:\n",
    "    n=n-1\n",
    "    if n==2:\n",
    "        continue\n",
    "        ##break\n",
    "    print(\"此时的变量值为：\",n)\n",
    "print(\"循环结束\")"
   ]
  },
  {
   "cell_type": "code",
   "execution_count": 36,
   "metadata": {},
   "outputs": [
    {
     "name": "stdout",
     "output_type": "stream",
     "text": [
      "1\n",
      "2\n"
     ]
    }
   ],
   "source": [
    "list=[1,2,3,4]\n",
    "it=iter(list)\n",
    "print(next(it))\n",
    "print(next(it))"
   ]
  },
  {
   "cell_type": "code",
   "execution_count": 41,
   "metadata": {},
   "outputs": [
    {
     "name": "stdout",
     "output_type": "stream",
     "text": [
      "1\n",
      "2\n",
      "3\n",
      "4\n",
      "5\n",
      "67\n",
      "7\n"
     ]
    },
    {
     "ename": "SystemExit",
     "evalue": "",
     "output_type": "error",
     "traceback": [
      "An exception has occurred, use %tb to see the full traceback.\n",
      "\u001b[0;31mSystemExit\u001b[0m\n"
     ]
    }
   ],
   "source": [
    "import sys \n",
    "list=[1,2,3,4,5,67,7]\n",
    "it=iter(list)\n",
    "while True:\n",
    "    try:\n",
    "        print(next(it))\n",
    "    except StopIteration:\n",
    "        sys.exit()"
   ]
  },
  {
   "cell_type": "code",
   "execution_count": 42,
   "metadata": {},
   "outputs": [
    {
     "name": "stdout",
     "output_type": "stream",
     "text": [
      "hello world!\n"
     ]
    }
   ],
   "source": [
    "def hello():\n",
    "    print(\"hello world!\")\n",
    "hello()\n"
   ]
  },
  {
   "cell_type": "code",
   "execution_count": 43,
   "metadata": {},
   "outputs": [
    {
     "name": "stdout",
     "output_type": "stream",
     "text": [
      "welcome!\n",
      "width= 4 height= 5 area= 20\n"
     ]
    }
   ],
   "source": [
    "def rectangle_area(width,height):\n",
    "    return width*height\n",
    "def welcome ():\n",
    "    print(\"welcome!\")\n",
    "w=4\n",
    "h=5\n",
    "welcome()\n",
    "print(\"width=\",w,\"height=\",h,\"area=\",rectangle_area(w,h))"
   ]
  },
  {
   "cell_type": "code",
   "execution_count": 44,
   "metadata": {},
   "outputs": [
    {
     "name": "stdout",
     "output_type": "stream",
     "text": [
      "shshshshshs\n",
      "asdhuoafuoueo\n"
     ]
    }
   ],
   "source": [
    "def printme(str):\n",
    "    print(str)\n",
    "    return \n",
    "printme(\"shshshshshs\")\n",
    "printme(\"asdhuoafuoueo\")"
   ]
  },
  {
   "cell_type": "code",
   "execution_count": 47,
   "metadata": {},
   "outputs": [
    {
     "name": "stdout",
     "output_type": "stream",
     "text": [
      "10\n"
     ]
    }
   ],
   "source": [
    "def changeInt(a):\n",
    "    a=10\n",
    "    return a\n",
    "\n",
    "b=2\n",
    "B=changeInt(b)\n",
    "print(B)"
   ]
  },
  {
   "cell_type": "code",
   "execution_count": 49,
   "metadata": {},
   "outputs": [
    {
     "name": "stdout",
     "output_type": "stream",
     "text": [
      "函数内取值： [10, 20, 30, [1, 2, 3, 4]]\n"
     ]
    }
   ],
   "source": [
    "def changeList(mylist):\n",
    "    mylist.append([1,2,3,4])\n",
    "    print(\"函数内取值：\",mylist)\n",
    "    return\n",
    "\n",
    "M=[10,20,30]\n",
    "changeList(M)"
   ]
  },
  {
   "cell_type": "code",
   "execution_count": 50,
   "metadata": {},
   "outputs": [
    {
     "name": "stdout",
     "output_type": "stream",
     "text": [
      "名字： 许霏然\n",
      "年龄： 22\n",
      "_________\n",
      "名字： 赵润豫\n",
      "年龄： 35\n"
     ]
    }
   ],
   "source": [
    "def printinfo(name,age=35):\n",
    "    print(\"名字：\",name)\n",
    "    print(\"年龄：\",age)\n",
    "    return\n",
    "\n",
    "printinfo(name=\"许霏然\",age=22)\n",
    "print(\"_________\")\n",
    "printinfo(name=\"赵润豫\")"
   ]
  },
  {
   "cell_type": "code",
   "execution_count": 52,
   "metadata": {},
   "outputs": [
    {
     "name": "stdout",
     "output_type": "stream",
     "text": [
      "60\n",
      "(70, 50, 90, 30, 50, 60)\n"
     ]
    }
   ],
   "source": [
    "def printinfo(arg1,*vartuple):\n",
    "    print(arg1)\n",
    "    print(vartuple)\n",
    "    \n",
    "printinfo(60,70,50,90,30,50,60)"
   ]
  },
  {
   "cell_type": "code",
   "execution_count": 56,
   "metadata": {},
   "outputs": [
    {
     "name": "stdout",
     "output_type": "stream",
     "text": [
      "1\n",
      "{'a': 3, 'b': 5, 'd': 6}\n"
     ]
    }
   ],
   "source": [
    "def printinfo1(arg1,**vardict):\n",
    "    print(arg1)\n",
    "    print(vardict)\n",
    "    \n",
    "printinfo1(1,a=3,b=5,d=6)"
   ]
  },
  {
   "cell_type": "code",
   "execution_count": 57,
   "metadata": {},
   "outputs": [
    {
     "name": "stdout",
     "output_type": "stream",
     "text": [
      "25\n"
     ]
    }
   ],
   "source": [
    "result=lambda x:x*x\n",
    "print(result(5))"
   ]
  },
  {
   "cell_type": "code",
   "execution_count": 58,
   "metadata": {
    "scrolled": true
   },
   "outputs": [
    {
     "name": "stdout",
     "output_type": "stream",
     "text": [
      "(1, 3, 6)\n"
     ]
    }
   ],
   "source": [
    "numbers = [1,3,6]\n",
    "newNumbers = tuple(map(lambda x:x,numbers))\n",
    "print(newNumbers)"
   ]
  },
  {
   "cell_type": "code",
   "execution_count": 60,
   "metadata": {},
   "outputs": [],
   "source": [
    "x=11"
   ]
  },
  {
   "cell_type": "code",
   "execution_count": 63,
   "metadata": {
    "scrolled": true
   },
   "outputs": [
    {
     "name": "stdout",
     "output_type": "stream",
     "text": [
      "1\n"
     ]
    }
   ],
   "source": [
    "if x>10:\n",
    "    print(\"1\")"
   ]
  },
  {
   "cell_type": "code",
   "execution_count": 13,
   "metadata": {},
   "outputs": [
    {
     "data": {
      "text/plain": [
       "6"
      ]
     },
     "execution_count": 13,
     "metadata": {},
     "output_type": "execute_result"
    }
   ],
   "source": [
    "a=[1,2,3,4,5,6,7,8,7]\n",
    "a.insert(3,\"o\")\n",
    "a.remove(\"o\")\n",
    "a.sort()\n",
    "a.reverse()\n",
    "a.pop(3)\n",
    "\n"
   ]
  },
  {
   "cell_type": "code",
   "execution_count": 17,
   "metadata": {},
   "outputs": [
    {
     "data": {
      "text/plain": [
       "7"
      ]
     },
     "execution_count": 17,
     "metadata": {},
     "output_type": "execute_result"
    }
   ],
   "source": [
    "stack=[3,4,5,6,7]\n",
    "stack.pop()"
   ]
  },
  {
   "cell_type": "code",
   "execution_count": 18,
   "metadata": {},
   "outputs": [
    {
     "data": {
      "text/plain": [
       "[3, 4, 5, 6, 8]"
      ]
     },
     "execution_count": 18,
     "metadata": {},
     "output_type": "execute_result"
    }
   ],
   "source": [
    "stack.append(8)\n",
    "stack"
   ]
  },
  {
   "cell_type": "code",
   "execution_count": 24,
   "metadata": {},
   "outputs": [
    {
     "data": {
      "text/plain": [
       "'ERCI'"
      ]
     },
     "execution_count": 24,
     "metadata": {},
     "output_type": "execute_result"
    }
   ],
   "source": [
    "from collections import deque\n",
    "queue = deque([\"ERCI\",'JOHN',\"MICHAL\"])\n",
    "queue.append(\"terry\")\n",
    "queue.popleft()\n"
   ]
  },
  {
   "cell_type": "code",
   "execution_count": 29,
   "metadata": {},
   "outputs": [
    {
     "data": {
      "text/plain": [
       "[6, 9]"
      ]
     },
     "execution_count": 29,
     "metadata": {},
     "output_type": "execute_result"
    }
   ],
   "source": [
    "vec=[2,3,6]\n",
    "[3*x for x in vec if x<6]"
   ]
  },
  {
   "cell_type": "code",
   "execution_count": 26,
   "metadata": {},
   "outputs": [
    {
     "data": {
      "text/plain": [
       "[[2, 4], [3, 9], [6, 36]]"
      ]
     },
     "execution_count": 26,
     "metadata": {},
     "output_type": "execute_result"
    }
   ],
   "source": [
    "[[x,x**2] for x in vec]"
   ]
  },
  {
   "cell_type": "code",
   "execution_count": 35,
   "metadata": {},
   "outputs": [
    {
     "name": "stdout",
     "output_type": "stream",
     "text": [
      "[-30, -24, -20, -16, -12, -10, -8, -8, -4]\n",
      "[-3, -2, -1, 0, 0, 1, 2, 2, 4]\n"
     ]
    }
   ],
   "source": [
    "vec1=[2,4,6]\n",
    "vec2=[-2,-4,-5]\n",
    "a=[x*y for x in vec1 for y in vec2]\n",
    "b=[x+y for x in vec1 for y in vec2]\n",
    "a.sort()\n",
    "b.sort()\n",
    "print(a)\n",
    "print(b)"
   ]
  },
  {
   "cell_type": "code",
   "execution_count": 37,
   "metadata": {},
   "outputs": [
    {
     "name": "stdout",
     "output_type": "stream",
     "text": [
      "[-4, -16, -30]\n"
     ]
    }
   ],
   "source": [
    "c=[vec1[i]*vec2[i] for i in range(len(vec1))]\n",
    "print(c)"
   ]
  },
  {
   "cell_type": "code",
   "execution_count": 39,
   "metadata": {},
   "outputs": [
    {
     "name": "stdout",
     "output_type": "stream",
     "text": [
      "命令行参数如下：\n",
      "/Users/xuhaichao/opt/anaconda3/lib/python3.7/site-packages/ipykernel_launcher.py\n",
      "-f\n",
      "/Users/xuhaichao/Library/Jupyter/runtime/kernel-a19a1e13-744e-42d4-b3a6-f380708ff05f.json\n",
      "\n",
      "\n",
      "Python 路径为： ['/Users/xuhaichao/Downloads/python1111/Code__Self-study', '/Users/xuhaichao/opt/anaconda3/lib/python37.zip', '/Users/xuhaichao/opt/anaconda3/lib/python3.7', '/Users/xuhaichao/opt/anaconda3/lib/python3.7/lib-dynload', '', '/Users/xuhaichao/opt/anaconda3/lib/python3.7/site-packages', '/Users/xuhaichao/opt/anaconda3/lib/python3.7/site-packages/aeosa', '/Users/xuhaichao/opt/anaconda3/lib/python3.7/site-packages/IPython/extensions', '/Users/xuhaichao/.ipython'] \n",
      "\n"
     ]
    }
   ],
   "source": [
    "import sys\n",
    "print('命令行参数如下：')\n",
    "for i in sys.argv:\n",
    "    print(i)\n",
    "    \n",
    "print('\\n\\nPython 路径为：',sys.path,'\\n')"
   ]
  },
  {
   "cell_type": "code",
   "execution_count": 40,
   "metadata": {},
   "outputs": [
    {
     "data": {
      "text/plain": [
       "['/Users/xuhaichao/opt/anaconda3/lib/python3.7/site-packages/ipykernel_launcher.py',\n",
       " '-f',\n",
       " '/Users/xuhaichao/Library/Jupyter/runtime/kernel-a19a1e13-744e-42d4-b3a6-f380708ff05f.json']"
      ]
     },
     "execution_count": 40,
     "metadata": {},
     "output_type": "execute_result"
    }
   ],
   "source": [
    "sys.argv"
   ]
  },
  {
   "cell_type": "code",
   "execution_count": 3,
   "metadata": {},
   "outputs": [
    {
     "name": "stdout",
     "output_type": "stream",
     "text": [
      "1 1 2 3 5 8 13 21 34 55 89 144 233 377 610 987 \n"
     ]
    }
   ],
   "source": [
    "import fibo\n",
    "fibo.fib(1000)\n"
   ]
  },
  {
   "cell_type": "code",
   "execution_count": 1,
   "metadata": {},
   "outputs": [
    {
     "name": "stdout",
     "output_type": "stream",
     "text": [
      "1 1 2 3 5 8 13 21 34 55 89 144 233 377 610 987 \n"
     ]
    }
   ],
   "source": [
    "import ppp\n",
    "ppp.fib1(1000)"
   ]
  },
  {
   "cell_type": "code",
   "execution_count": 4,
   "metadata": {},
   "outputs": [
    {
     "data": {
      "text/plain": [
       "['__builtins__',\n",
       " '__cached__',\n",
       " '__doc__',\n",
       " '__file__',\n",
       " '__loader__',\n",
       " '__name__',\n",
       " '__package__',\n",
       " '__spec__',\n",
       " 'fib',\n",
       " 'fib2']"
      ]
     },
     "execution_count": 4,
     "metadata": {},
     "output_type": "execute_result"
    }
   ],
   "source": [
    "dir(fibo)"
   ]
  },
  {
   "cell_type": "code",
   "execution_count": 13,
   "metadata": {},
   "outputs": [
    {
     "name": "stdout",
     "output_type": "stream",
     "text": [
      "****1 ****1 ****1\n",
      "****2 ****4 ****8\n",
      "****3 ****9 ***27\n",
      "****4 ***16 ***64\n",
      "****5 ***25 **125\n",
      "****6 ***36 **216\n",
      "****7 ***49 **343\n",
      "****8 ***64 **512\n",
      "****9 ***81 **729\n",
      "***10 **100 *1000\n"
     ]
    }
   ],
   "source": [
    "for x in range(1,11):\n",
    "    print(repr(x).rjust(5,\"*\"),repr(x*x).rjust(5,\"*\"),repr(x*x*x).rjust(5,\"*\"))\n",
    "   ## print(repr(x*x*x).rjust(4))"
   ]
  },
  {
   "cell_type": "code",
   "execution_count": 2,
   "metadata": {},
   "outputs": [
    {
     "name": "stdout",
     "output_type": "stream",
     "text": [
      "wo bu shuang yin wei wo fen shou le ,ta bu ai wo\n"
     ]
    }
   ],
   "source": [
    "f=open(\"Work_doky.txt\",\"r\")\n",
    "str=f.readline()\n",
    "print(str)\n"
   ]
  },
  {
   "cell_type": "code",
   "execution_count": null,
   "metadata": {},
   "outputs": [],
   "source": [
    "f=open(\"Work_doky.txt\",\"w\")\n",
    "num=f.write(\"wo bu shuang yin wei wo fen shou le ,ta bu ai wo\")\n",
    "print(num)"
   ]
  },
  {
   "cell_type": "code",
   "execution_count": 1,
   "metadata": {},
   "outputs": [
    {
     "name": "stdout",
     "output_type": "stream",
     "text": [
      "Myclass 的类的属性i为： 12345\n",
      "Myclass 的类的方法为： hello world\n"
     ]
    }
   ],
   "source": [
    "class Myclass:\n",
    "    i=12345\n",
    "    def f(self):\n",
    "        return 'hello world'\n",
    "\n",
    "x=Myclass()\n",
    "print(\"Myclass 的类的属性i为：\",x.i)\n",
    "print(\"Myclass 的类的方法为：\",x.f())"
   ]
  },
  {
   "cell_type": "code",
   "execution_count": 5,
   "metadata": {},
   "outputs": [],
   "source": [
    "class complex:\n",
    "    def __init__(self,real,imag):\n",
    "        self.r=real\n",
    "        self.i=imag\n",
    "\n",
    "x=complex(3,5)\n",
    "print(x.r,x.i)\n",
    "    "
   ]
  },
  {
   "cell_type": "code",
   "execution_count": 26,
   "metadata": {},
   "outputs": [
    {
     "name": "stdout",
     "output_type": "stream",
     "text": [
      "我叫许霏然, 我是一个演说家，我今天要演讲的主题是mathmatic\n"
     ]
    }
   ],
   "source": [
    "class people:\n",
    "    name=\" \"\n",
    "    age=0\n",
    "    __weight=0\n",
    "    \n",
    "    def __init__(self,n,a,w):\n",
    "        self.name=n\n",
    "        self.age=a\n",
    "        self.__weight=w\n",
    "    def speak (self):\n",
    "        print(self.name,\"说：我今年\",self.age, \"岁了\")\n",
    "\n",
    "class student(people):\n",
    "    grade = ' '\n",
    "    def __init__(self,n,a,w,g):\n",
    "        people.__init__(self,n,a,w)\n",
    "        self.grade=g\n",
    "    def speak(self):\n",
    "        print(\"%s说：我%d岁了，在读%d年级\"%(self.name,self.age,self.grade))\n",
    "'''\n",
    "class Bstudent(student):\n",
    "    major=\" \"\n",
    "    high=0\n",
    "    def __init__(self,n,a,w,g,m,h):\n",
    "        student.__init__(self,n,a,w,g)\n",
    "        self.major=m\n",
    "        self.high=h\n",
    "    def speak(self):\n",
    "        print(\"%s说：我%d岁了，在读%d年级，专业是%s，身高为%d\"%(self.name,self.age,self.grade,self.major,self.high))\n",
    "s=Bstudent(\"许霏然\",21,100,8,\"数学\",179)\n",
    "s.speak() \n",
    "'''\n",
    "\n",
    "class speaker():\n",
    "    topic = \" \"\n",
    "    name=\" \"\n",
    "    def __init__(self,n,t):\n",
    "        self.topic=t\n",
    "        self.name=n\n",
    "    def speak(self):\n",
    "        print(\"我叫%s, 我是一个演说家，我今天要演讲的主题是%s\"%(self.name,self.topic))\n",
    "\n",
    "class sample(speaker,student):\n",
    "    def __init__(self,n,a,w,g,t):\n",
    "        student.__init__(self,n,a,w,g)\n",
    "        speaker.__init__(self,n,t)\n",
    "\n",
    "t=sample(\"许霏然\",21,100,3,\"mathmatic\")\n",
    "t.speak()"
   ]
  },
  {
   "cell_type": "code",
   "execution_count": 28,
   "metadata": {},
   "outputs": [
    {
     "name": "stdout",
     "output_type": "stream",
     "text": [
      "21\n"
     ]
    }
   ],
   "source": [
    "class A:\n",
    "    def add(self,x):\n",
    "        y=x+1\n",
    "        print(y)\n",
    "class B(A): \n",
    "    def add(self,x):\n",
    "        super().add(x)\n",
    "b=B()\n",
    "b.add(20)"
   ]
  },
  {
   "cell_type": "code",
   "execution_count": 51,
   "metadata": {},
   "outputs": [
    {
     "ename": "IndentationError",
     "evalue": "unindent does not match any outer indentation level (<tokenize>, line 5)",
     "output_type": "error",
     "traceback": [
      "\u001b[0;36m  File \u001b[0;32m\"<tokenize>\"\u001b[0;36m, line \u001b[0;32m5\u001b[0m\n\u001b[0;31m    def __str__(self):\u001b[0m\n\u001b[0m    ^\u001b[0m\n\u001b[0;31mIndentationError\u001b[0m\u001b[0;31m:\u001b[0m unindent does not match any outer indentation level\n"
     ]
    }
   ],
   "source": [
    "class vector:\n",
    "    def __init__(self,a):\n",
    "        self.a=a\n",
    "#         self.b=b\n",
    "    def __str__(self):\n",
    "        for i in self.a:\n",
    "            print(i)\n",
    "#     def __str__(self):\n",
    "#         return \"vector (%d,%d)\"%(self.a,self.b)\n",
    "#     def __add__(self,other):\n",
    "#         return vector(self.a+other.a,self.b+other.b)\n",
    "#     def __mul__(self,other):\n",
    "#         return vector(self.a*other.a,self.b*other.b)\n",
    "# v1=vector(2,4)\n",
    "# v2=vector(3,9)\n",
    "# v3=vector(1,1)\n",
    "# print(v1+v2+v3)\n",
    "# print(v1*v2)"
   ]
  },
  {
   "cell_type": "code",
   "execution_count": 49,
   "metadata": {},
   "outputs": [
    {
     "name": "stdout",
     "output_type": "stream",
     "text": [
      "<__main__.vector object at 0x10b902790>\n"
     ]
    }
   ],
   "source": [
    "v1=vector(a,b)\n",
    "\n",
    "print(v1)"
   ]
  },
  {
   "cell_type": "code",
   "execution_count": 43,
   "metadata": {},
   "outputs": [],
   "source": [
    "a=[1,2,3]\n",
    "b=[2,3,4]"
   ]
  },
  {
   "cell_type": "code",
   "execution_count": null,
   "metadata": {},
   "outputs": [],
   "source": []
  }
 ],
 "metadata": {
  "kernelspec": {
   "display_name": "Python 3",
   "language": "python",
   "name": "python3"
  },
  "language_info": {
   "codemirror_mode": {
    "name": "ipython",
    "version": 3
   },
   "file_extension": ".py",
   "mimetype": "text/x-python",
   "name": "python",
   "nbconvert_exporter": "python",
   "pygments_lexer": "ipython3",
   "version": "3.7.4"
  }
 },
 "nbformat": 4,
 "nbformat_minor": 2
}
