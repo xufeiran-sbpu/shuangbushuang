{
 "cells": [
  {
   "cell_type": "code",
   "execution_count": 3,
   "metadata": {},
   "outputs": [
    {
     "name": "stdout",
     "output_type": "stream",
     "text": [
      "1 1 2 2 3 4 9 20 23 30 3291 "
     ]
    }
   ],
   "source": [
    "def partition(arr,low,high):\n",
    "    i=low-1\n",
    "    mid=arr[high]\n",
    "    \n",
    "    for j in range(low,high):\n",
    "        if arr[j]<=mid:\n",
    "            i=i+1\n",
    "            arr[i],arr[j]=arr[j],arr[i]\n",
    "    arr[i+1],arr[high]=arr[high],arr[i+1]\n",
    "    return(i+1)\n",
    "def quickSort(arr,low,high):\n",
    "    if low<high:\n",
    "        pi=partition(arr,low,high)\n",
    "        \n",
    "        quickSort(arr,low,pi-1)\n",
    "        quickSort(arr,pi+1,high)\n",
    "        \n",
    "arr=[9,2,3,1,2,4,1,30,20,3291,23]\n",
    "n=len(arr)\n",
    "quickSort(arr,0,n-1)\n",
    "for i in range(n):\n",
    "    print(arr[i],end=\" \")"
   ]
  },
  {
   "cell_type": "code",
   "execution_count": null,
   "metadata": {},
   "outputs": [],
   "source": []
  }
 ],
 "metadata": {
  "kernelspec": {
   "display_name": "Python 3",
   "language": "python",
   "name": "python3"
  },
  "language_info": {
   "codemirror_mode": {
    "name": "ipython",
    "version": 3
   },
   "file_extension": ".py",
   "mimetype": "text/x-python",
   "name": "python",
   "nbconvert_exporter": "python",
   "pygments_lexer": "ipython3",
   "version": "3.7.4"
  }
 },
 "nbformat": 4,
 "nbformat_minor": 2
}
